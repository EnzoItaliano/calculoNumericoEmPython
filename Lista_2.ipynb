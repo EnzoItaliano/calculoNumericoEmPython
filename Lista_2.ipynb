{
  "nbformat": 4,
  "nbformat_minor": 0,
  "metadata": {
    "colab": {
      "name": "Lista 2.ipynb",
      "provenance": [],
      "collapsed_sections": [],
      "authorship_tag": "ABX9TyMai4W+hxdMVAPZgHbmm3HT",
      "include_colab_link": true
    },
    "kernelspec": {
      "name": "python3",
      "display_name": "Python 3"
    }
  },
  "cells": [
    {
      "cell_type": "markdown",
      "metadata": {
        "id": "view-in-github",
        "colab_type": "text"
      },
      "source": [
        "<a href=\"https://colab.research.google.com/github/EnzoItaliano/calculoNumericoEmPython/blob/master/Lista_2.ipynb\" target=\"_parent\"><img src=\"https://colab.research.google.com/assets/colab-badge.svg\" alt=\"Open In Colab\"/></a>"
      ]
    },
    {
      "cell_type": "markdown",
      "metadata": {
        "id": "C19y_d_xSou6",
        "colab_type": "text"
      },
      "source": [
        "Universidade Tecnológica Federal do Paraná  \n",
        "Professor: Wellington José Corrêa  \n",
        "Orientando: Enzo Dornelles Italiano  \n",
        "Cálculo Numérico"
      ]
    },
    {
      "cell_type": "markdown",
      "metadata": {
        "id": "VYmffNqGSwen",
        "colab_type": "text"
      },
      "source": [
        "#Raízes de Equações"
      ]
    },
    {
      "cell_type": "markdown",
      "metadata": {
        "id": "x1qPTto7S7FM",
        "colab_type": "text"
      },
      "source": [
        "Nesta lista vamos determinar numéricamente as raízes da equação $f(x) = 0$ pelos métodos da bissecção, do ponto fixo, Newton-Raphson, secante e regula falsi. Para facilitar o uso ao aluno, usaremos alguns exemplos apresentados em sala.\n",
        "\n",
        "Antes de iniciar é necessário executar uma vez o código do tópico **Códigos**"
      ]
    },
    {
      "cell_type": "markdown",
      "metadata": {
        "id": "20LjG-wooDTd",
        "colab_type": "text"
      },
      "source": [
        "## Códigos"
      ]
    },
    {
      "cell_type": "code",
      "metadata": {
        "id": "V3CLq5U9oFU5",
        "colab_type": "code",
        "colab": {}
      },
      "source": [
        "!pip install mpld3\n",
        "!pip install \"git+https://github.com/javadba/mpld3@display_fix\"\n",
        "import math\n",
        "import matplotlib.pyplot as plt\n",
        "from prettytable import PrettyTable\n",
        "from sympy import *\n",
        "import numpy as np\n",
        "import mpld3\n",
        "from mpld3 import plugins\n",
        "x = symbols('x')\n",
        "\n",
        "def plot2d(f, inicio, fim):\n",
        "    z = np.arange(inicio,fim,0.1)\n",
        "    \n",
        "    y = []\n",
        "    for i in range(len(z)):\n",
        "        y.append(f.subs(x,z[i]))\n",
        "    \n",
        "    fig, ax = plt.subplots()\n",
        "    ax.set(title='Gráfico função f(x)='+str(f))\n",
        "    ax.plot(z,y)\n",
        "    ax.grid()\n",
        "    plt.show()\n",
        "\n",
        "def bisseccao(f, e, a, b):\n",
        "    fa = f.subs(x,a)\n",
        "    fb = f.subs(x,b)\n",
        "    if fa * fb >= 0:\n",
        "        print(\"Não atende ao critério f(a) * f(b) < 0\")\n",
        "        return\n",
        "    \n",
        "    k = 0\n",
        "    ak = []\n",
        "    bk = []\n",
        "    xk = []\n",
        "    fak = []\n",
        "    fbk = []\n",
        "    xk = []\n",
        "    fxk = []\n",
        "    xk_x = []\n",
        "    ak.append(a)\n",
        "    bk.append(b)\n",
        "\n",
        "    kf = math.log((b-a)/e,2)-1\n",
        "    times = math.ceil(kf) + 1\n",
        "\n",
        "    for k in range(times):\n",
        "        if k == 0:\n",
        "            y = ak[len(ak)-1]\n",
        "            fak.append(round(f.subs(x,y),9))\n",
        "            y = bk[len(bk)-1]\n",
        "            fbk.append(round(f.subs(x,y),9))\n",
        "            xk.append((ak[len(ak)-1] + bk[len(bk)-1])/2)\n",
        "            y = xk[len(xk)-1]\n",
        "            fxk.append(round(f.subs(x,y),9))\n",
        "            xk_x.append('-')\n",
        "        else:\n",
        "            if (fak[len(fak)-1] < 0 and fxk[len(fxk)-1] < 0) or (fak[len(fak)-1] > 0 and fxk[len(fxk)-1] > 0):\n",
        "                ak.append(xk[len(xk)-1])\n",
        "                bk.append(bk[len(bk)-1])\n",
        "            else:\n",
        "                ak.append(ak[len(ak)-1])\n",
        "                bk.append(xk[len(xk)-1])\n",
        "\n",
        "            y = ak[len(ak)-1]\n",
        "            fak.append(round(f.subs(x,y),9))\n",
        "            y = bk[len(bk)-1]\n",
        "            fbk.append(round(f.subs(x,y),9))\n",
        "            xk.append((ak[len(ak)-1] + bk[len(bk)-1])/2)\n",
        "            y = xk[len(xk)-1]\n",
        "            fxk.append(round(f.subs(x,y),9))\n",
        "            temp = xk[len(xk)-1] - xk[len(xk)-2]\n",
        "            if temp < 0:\n",
        "                temp = temp * -1\n",
        "            xk_x.append(temp)\n",
        "\n",
        "    Table = PrettyTable([\"k\", \"a\", \"b\", \"f(a)\", \"f(b)\", \"x\", \"f(x)\", \"|x(k) - x(k-1)|\"])\n",
        "    for k in range(times):\n",
        "        Table.add_row([k, ak[k], bk[k], fak[k], fbk[k], xk[k], fxk[k], xk_x[k]])\n",
        "\n",
        "\n",
        "    print(Table)\n",
        "    print(\"Donde \\u03B5 é aproximadamente \" + str(xk[len(xk)-1]))\n",
        "\n",
        "def graficoBissec(f, e, a, b):\n",
        "    k = 0\n",
        "    ak = []\n",
        "    bk = []\n",
        "    xk = []\n",
        "    fak = []\n",
        "    fbk = []\n",
        "    xk = []\n",
        "    fxk = []\n",
        "    xk_x = []\n",
        "    ak.append(a)\n",
        "    bk.append(b)\n",
        "\n",
        "    kf = math.log((b-a)/e,2)-1\n",
        "    times = math.ceil(kf) + 1\n",
        "\n",
        "    for k in range(times):\n",
        "        if k == 0:\n",
        "            y = ak[len(ak)-1]\n",
        "            fak.append(round(f.subs(x,y),9))\n",
        "            y = bk[len(bk)-1]\n",
        "            fbk.append(round(f.subs(x,y),9))\n",
        "            xk.append((ak[len(ak)-1] + bk[len(bk)-1])/2)\n",
        "            y = xk[len(xk)-1]\n",
        "            fxk.append(round(f.subs(x,y),9))\n",
        "            xk_x.append('-')\n",
        "        else:\n",
        "            if (fak[len(fak)-1] < 0 and fxk[len(fxk)-1] < 0) or (fak[len(fak)-1] > 0 and fxk[len(fxk)-1] > 0):\n",
        "                ak.append(xk[len(xk)-1])\n",
        "                bk.append(bk[len(bk)-1])\n",
        "            else:\n",
        "                ak.append(ak[len(ak)-1])\n",
        "                bk.append(xk[len(xk)-1])\n",
        "\n",
        "            y = ak[len(ak)-1]\n",
        "            fak.append(round(f.subs(x,y),9))\n",
        "            y = bk[len(bk)-1]\n",
        "            fbk.append(round(f.subs(x,y),9))\n",
        "            xk.append((ak[len(ak)-1] + bk[len(bk)-1])/2)\n",
        "            y = xk[len(xk)-1]\n",
        "            fxk.append(round(f.subs(x,y),9))\n",
        "            temp = xk[len(xk)-1] - xk[len(xk)-2]\n",
        "            if temp < 0:\n",
        "                temp = temp * -1\n",
        "            xk_x.append(temp)\n",
        "\n",
        "    return xk,fxk\n",
        "\n",
        "def pontoFixo(f,e,xi):\n",
        "    xk = []\n",
        "    xk.append(xi)\n",
        "    xk_x = []\n",
        "    xk_x.append(\"-\")\n",
        "    end_condition = 0\n",
        "    while not end_condition:\n",
        "        xk.append(f.subs(x,xk[len(xk)-1]))\n",
        "        xk_x.append(abs(xk[len(xk)-1]-xk[len(xk)-2]))\n",
        "        if xk_x[len(xk_x)-1] < e:\n",
        "            end_condition = 1\n",
        "    \n",
        "    Table = PrettyTable([\"k\", \"xk\", \"|x(k) - x(k-1)|\"])\n",
        "    for k in range(0, len(xk)):\n",
        "        Table.add_row([k, xk[k], xk_x[k]])\n",
        "    \n",
        "    print(Table)\n",
        "    print(\"Donde \\u03B5 é aproximadamente \" + str(xk[len(xk)-1]))\n",
        "\n",
        "def graficoPontoFixo(f,e,a,b,xi):\n",
        "    xk = []\n",
        "    xk.append(xi)\n",
        "    xk_x = []\n",
        "    xk_x.append(\"-\")\n",
        "    end_condition = 0\n",
        "    while not end_condition:\n",
        "        xk.append(f.subs(x,xk[len(xk)-1]))\n",
        "        xk_x.append(abs(xk[len(xk)-1]-xk[len(xk)-2]))\n",
        "        if xk_x[len(xk_x)-1] < e:\n",
        "            end_condition = 1\n",
        "    return xk\n",
        "\n",
        "def newton(f, e, a, b):\n",
        "    xk = []\n",
        "    xk.append(b)\n",
        "    xk_x = []\n",
        "    xk_x.append(0)\n",
        "    end_condition = 0\n",
        "\n",
        "    if f.subs(x,xk[len(xk)-1]) * diff(diff(f,x),x).subs(x,xk[len(xk)-1]) > 0:\n",
        "        while not end_condition:\n",
        "            func = f.subs(x,xk[len(xk)-1])\n",
        "            derivate = diff(f,x).subs(x,xk[len(xk)-1])\n",
        "            temp = xk[len(xk)-1] - func/derivate\n",
        "            xk.append(N(temp))\n",
        "\n",
        "            temp2 = xk[len(xk)-2] - xk[len(xk)-1]\n",
        "            if temp2 < 0:\n",
        "                temp2 = temp2 * -1\n",
        "\n",
        "            xk_x.append(N(temp2))\n",
        "            if xk_x[len(xk_x)-1] < e:\n",
        "                end_condition = 1\n",
        "            \n",
        "        Table = PrettyTable([\"k\", \"xk\", \"|x(k) - x(k-1)|\"])\n",
        "        for k in range(1, len(xk)):\n",
        "            Table.add_row([k, xk[k], xk_x[k]])\n",
        "        \n",
        "        print(Table)\n",
        "\n",
        "        print(\"Donde \\u03B5 é aproximadamente \" + str(xk[len(xk)-1]))\n",
        "\n",
        "def graficoNewton(f, e, a, b):\n",
        "    xk = []\n",
        "    xk.append(b)\n",
        "    xk_x = []\n",
        "    xk_x.append(0)\n",
        "    end_condition = 0\n",
        "\n",
        "    if f.subs(x,xk[len(xk)-1]) * diff(diff(f,x),x).subs(x,xk[len(xk)-1]) > 0:\n",
        "        while not end_condition:\n",
        "            func = f.subs(x,xk[len(xk)-1])\n",
        "            derivate = diff(f,x).subs(x,xk[len(xk)-1])\n",
        "            temp = xk[len(xk)-1] - func/derivate\n",
        "            xk.append(N(temp))\n",
        "\n",
        "            temp2 = xk[len(xk)-2] - xk[len(xk)-1]\n",
        "            if temp2 < 0:\n",
        "                temp2 = temp2 * -1\n",
        "\n",
        "            xk_x.append(N(temp2))\n",
        "            if xk_x[len(xk_x)-1] < e:\n",
        "                end_condition = 1\n",
        "    return xk[1:]\n",
        "\n",
        "def secante(f, e, a, b):\n",
        "    xk = []\n",
        "    xk.append(a)\n",
        "    xk.append(b)\n",
        "    xk_x = []\n",
        "    xk_x.append(0)\n",
        "    xk_x.append(0)\n",
        "    end_condition = 0\n",
        "\n",
        "    while not end_condition:\n",
        "        temp  = f.subs(x, xk[len(xk)-1]) * (xk[len(xk)-1] - xk[len(xk)-2])\n",
        "        temp2 = f.subs(x, xk[len(xk)-1]) - f.subs(x,xk[len(xk)-2])\n",
        "        temp3 = xk[len(xk)-1] - (temp/temp2)\n",
        "        xk.append(temp3)\n",
        "\n",
        "        temp4 = xk[len(xk)-1] - xk[len(xk)-2]\n",
        "        \n",
        "        if temp4 < 0:\n",
        "            temp4 = temp4 * -1\n",
        "\n",
        "        xk_x.append(temp4)\n",
        "\n",
        "        if xk_x[len(xk_x)-1] < e:\n",
        "            end_condition = 1\n",
        "\n",
        "    Table = PrettyTable([\"k\", \"xk\", \"|x(k+1) - x(k)|\"])\n",
        "    for k in range(2, len(xk)):\n",
        "        Table.add_row([k, xk[k], xk_x[k]])\n",
        "        \n",
        "    print(Table)\n",
        "    print(\"Donde \\u03B5 é aproximadamente \" + str(xk[len(xk)-1]))\n",
        "\n",
        "def graficoSecante(f, e, a, b):\n",
        "    xk = []\n",
        "    xk.append(a)\n",
        "    xk.append(b)\n",
        "    xk_x = []\n",
        "    xk_x.append(0)\n",
        "    xk_x.append(0)\n",
        "    end_condition = 0\n",
        "\n",
        "    while not end_condition:\n",
        "        temp  = f.subs(x, xk[len(xk)-1]) * (xk[len(xk)-1] - xk[len(xk)-2])\n",
        "        temp2 = f.subs(x, xk[len(xk)-1]) - f.subs(x,xk[len(xk)-2])\n",
        "        temp3 = xk[len(xk)-1] - (temp/temp2)\n",
        "        xk.append(temp3)\n",
        "\n",
        "        temp4 = xk[len(xk)-1] - xk[len(xk)-2]\n",
        "        \n",
        "        if temp4 < 0:\n",
        "            temp4 = temp4 * -1\n",
        "\n",
        "        xk_x.append(temp4)\n",
        "\n",
        "        if xk_x[len(xk_x)-1] < e:\n",
        "            end_condition = 1\n",
        "    return xk[2:]\n",
        "\n",
        "def regulaFalsi(f, e, a, b):\n",
        "    xk = []\n",
        "    xk_x = []\n",
        "\n",
        "    x0 = a\n",
        "    x1 = b\n",
        "\n",
        "    end_condition = 0\n",
        "\n",
        "    while not end_condition:\n",
        "        temp = x1 - f.subs(x, x1) * (x1 - x0) / (f.subs(x, x1) - f.subs(x, x0))\n",
        "\n",
        "        temp2 = temp - x1\n",
        "        \n",
        "        if temp2 < 0:\n",
        "            temp2 = temp2 * -1\n",
        "\n",
        "        if temp2 < e:\n",
        "            xk.append(temp)\n",
        "            xk_x.append(temp2)\n",
        "            end_condition = 1\n",
        "            continue\n",
        "\n",
        "        k = f.subs(x, temp)\n",
        "\n",
        "        if k*f.subs(x, x1) < 0:\n",
        "            x0 = x1\n",
        "\n",
        "        x1 = temp\n",
        "        xk.append(temp)\n",
        "        xk_x.append(temp2)\n",
        "        \n",
        "\n",
        "    Table = PrettyTable([\"k\", \"xk\", \"|x(k) - x(k-1)|\"])\n",
        "    for k in range(len(xk)):\n",
        "        Table.add_row([k+2, xk[k], xk_x[k]])\n",
        "        \n",
        "    print(Table)\n",
        "    print(\"Donde \\u03B5 é aproximadamente \" + str(xk[len(xk)-1]))\n",
        "\n",
        "def graficoRegulaFalsi(f, e, a, b):\n",
        "    xk = []\n",
        "    xk_x = []\n",
        "\n",
        "    x0 = a\n",
        "    x1 = b\n",
        "\n",
        "    end_condition = 0\n",
        "\n",
        "    while not end_condition:\n",
        "        temp = x1 - f.subs(x, x1) * (x1 - x0) / (f.subs(x, x1) - f.subs(x, x0))\n",
        "\n",
        "        temp2 = temp - x1\n",
        "        \n",
        "        if temp2 < 0:\n",
        "            temp2 = temp2 * -1\n",
        "\n",
        "        if temp2 < e:\n",
        "            xk.append(temp)\n",
        "            xk_x.append(temp2)\n",
        "            end_condition = 1\n",
        "            continue\n",
        "\n",
        "        k = f.subs(x, temp)\n",
        "\n",
        "        if k*f.subs(x, x1) < 0:\n",
        "            x0 = x1\n",
        "\n",
        "        x1 = temp\n",
        "        xk.append(temp)\n",
        "        xk_x.append(temp2)\n",
        "    return xk"
      ],
      "execution_count": 0,
      "outputs": []
    },
    {
      "cell_type": "markdown",
      "metadata": {
        "id": "XkKknAAaTkBe",
        "colab_type": "text"
      },
      "source": [
        "## 1. Método da Bissecção"
      ]
    },
    {
      "cell_type": "markdown",
      "metadata": {
        "id": "mVs2QmvsTx7G",
        "colab_type": "text"
      },
      "source": [
        "De modo a empregar o método da bissecção, basta usar o procedimento bisseccao(f,epsilon,a,b).\n",
        "\n",
        "Exemplo: Calcule a raiz positiva da equação $f(x)=x^2-3$ com tolerância $\\epsilon \\leq 0.01$.\n",
        "\n",
        "Solução: Primeiramente, assim como neste método e nos outros a serem apresentados, é preciso definir a função f(x) pelo comando:"
      ]
    },
    {
      "cell_type": "code",
      "metadata": {
        "id": "7S-TKvPsnZ44",
        "colab_type": "code",
        "colab": {}
      },
      "source": [
        "def f(x): return pow(x,2)-3"
      ],
      "execution_count": 0,
      "outputs": []
    },
    {
      "cell_type": "markdown",
      "metadata": {
        "id": "r-MlRx5zU4Ai",
        "colab_type": "text"
      },
      "source": [
        "Para a escolha adequada do intervalo [a,b], é conveniente plotar o gráfico de f recorrendo ao comando:"
      ]
    },
    {
      "cell_type": "code",
      "metadata": {
        "id": "tGBQ4zvhVQB_",
        "colab_type": "code",
        "colab": {}
      },
      "source": [
        "plot2d(f(x), 0, 2)"
      ],
      "execution_count": 0,
      "outputs": []
    },
    {
      "cell_type": "markdown",
      "metadata": {
        "id": "5F-vmV3ZWpG_",
        "colab_type": "text"
      },
      "source": [
        "Observando o gráfico acima, escolhamos os pontos $a=1$ e $b=2$, por exemplo. Logo,"
      ]
    },
    {
      "cell_type": "code",
      "metadata": {
        "id": "Q1Dy6eSyWt5S",
        "colab_type": "code",
        "colab": {}
      },
      "source": [
        "def f(x): return pow(x,2)-3\n",
        "bisseccao(f(x), 0.01, 1, 2)"
      ],
      "execution_count": 0,
      "outputs": []
    },
    {
      "cell_type": "code",
      "metadata": {
        "id": "F7QuhKGXSQ6o",
        "colab_type": "code",
        "colab": {}
      },
      "source": [
        "result = graficoBissec(f(x), 0.01, 1, 2)\n",
        "inicio = 1\n",
        "fim = 2\n",
        "z = np.arange(inicio,fim,0.001)\n",
        "    \n",
        "y = []\n",
        "for i in range(len(z)):\n",
        "    y.append(f(x).subs(x,z[i]))\n",
        "\n",
        "fig, ax = plt.subplots()\n",
        "ax.set(title='Gráfico função f(x)='+str(f(x)))\n",
        "ax.plot(z,y, \"-o\", markersize=2)\n",
        "plt.plot(result[0],result[1],'ro')\n",
        "ax.grid()\n",
        "plugins.connect(fig, plugins.MousePosition(fontsize=14))\n",
        "\n",
        "mpld3.display()"
      ],
      "execution_count": 0,
      "outputs": []
    },
    {
      "cell_type": "markdown",
      "metadata": {
        "id": "nJPwkrURbh78",
        "colab_type": "text"
      },
      "source": [
        "Por outro lado, se tivéssemos escolhido $a=1$ e $b=1.5$, o procedimento acima nos devolveria a seguinte informação:"
      ]
    },
    {
      "cell_type": "code",
      "metadata": {
        "id": "iECfTq4vboGk",
        "colab_type": "code",
        "colab": {}
      },
      "source": [
        "def f(x): return pow(x,2)-3\n",
        "bisseccao(f(x), 0.01, 1, 1.5)"
      ],
      "execution_count": 0,
      "outputs": []
    },
    {
      "cell_type": "markdown",
      "metadata": {
        "id": "Mk2gQpvbcN5P",
        "colab_type": "text"
      },
      "source": [
        "Exemplo: Obtenha a raiz da equação $f(x) = x^2 + ln(x)$ com $\\epsilon \\leq 10^{-2}$."
      ]
    },
    {
      "cell_type": "markdown",
      "metadata": {
        "id": "CRbQvl5rcssA",
        "colab_type": "text"
      },
      "source": [
        "Solução: Inicialmente, como feito no exemplo anterior, definamos f(x) e plotemos o gráfico. Em python a função log(x,base), quando não se passa o valor da base como parâmetro ela considera a base = $e$."
      ]
    },
    {
      "cell_type": "code",
      "metadata": {
        "id": "fB4yu2Yxd9CC",
        "colab_type": "code",
        "colab": {}
      },
      "source": [
        "def f(x): return pow(x,2) + ln(x)\n",
        "plot2d(f(x), 0.2, 2)"
      ],
      "execution_count": 0,
      "outputs": []
    },
    {
      "cell_type": "markdown",
      "metadata": {
        "id": "FbAR1Nv6qQSJ",
        "colab_type": "text"
      },
      "source": [
        "Tendo em mente o gráfico acima, escolhamos por exemplo, $a=0.5$ e $b=1$,logo resulta do procedimento usado anteriormente."
      ]
    },
    {
      "cell_type": "code",
      "metadata": {
        "id": "UVO1nw5nqTtz",
        "colab_type": "code",
        "colab": {}
      },
      "source": [
        "def f(x): return pow(x,2) + ln(x)\n",
        "bisseccao(f(x), 0.01, 0.5, 1)"
      ],
      "execution_count": 0,
      "outputs": []
    },
    {
      "cell_type": "markdown",
      "metadata": {
        "id": "qPufW58JkJLP",
        "colab_type": "text"
      },
      "source": [
        "## 2. Método do Ponto Fixo"
      ]
    },
    {
      "cell_type": "markdown",
      "metadata": {
        "id": "eKZFlPHokOvY",
        "colab_type": "text"
      },
      "source": [
        "Neste método, devemos usar o procedimento pontoFixo(F,epsilon,x0) onde F é a função de iteração que satisfaz F(x) = x, e x0 um ponto do interior de um intervalo [a,b].\n",
        "\n",
        "Exemplo: Seja $f(x)=cos(x)$. Determine uma raiz de f(x) com tolerância $\\epsilon \\leq 10^{-2}$.\n",
        "\n",
        "Solução: Primeiramente, é preciso definir a função f(x) pelo comando: "
      ]
    },
    {
      "cell_type": "code",
      "metadata": {
        "id": "LnKxH1EulFep",
        "colab_type": "code",
        "colab": {}
      },
      "source": [
        "def f(x): return cos(x)"
      ],
      "execution_count": 0,
      "outputs": []
    },
    {
      "cell_type": "markdown",
      "metadata": {
        "id": "JnkVZtbslMGl",
        "colab_type": "text"
      },
      "source": [
        "Como de praxe, plotamos o gráfico de f(x):"
      ]
    },
    {
      "cell_type": "code",
      "metadata": {
        "id": "vV_k8K5QlNlv",
        "colab_type": "code",
        "colab": {}
      },
      "source": [
        "plot2d(f(x), 0.2, 2)"
      ],
      "execution_count": 0,
      "outputs": []
    },
    {
      "cell_type": "markdown",
      "metadata": {
        "id": "Osrp_boVwrnd",
        "colab_type": "text"
      },
      "source": [
        "Pelo gráfico, escolhamos $a=0.5$,$b=1$ e $x_0=\\frac{\\pi}{4}$, por exemplo. Considere $F(x)=cos(x)$. Definindo-a e usando o procedimento para o ponto fixo descrito acima, note que:"
      ]
    },
    {
      "cell_type": "code",
      "metadata": {
        "id": "NEmOvQXRxkhZ",
        "colab_type": "code",
        "colab": {}
      },
      "source": [
        "pontoFixo(f(x),10**(-2), math.pi/4)"
      ],
      "execution_count": 0,
      "outputs": []
    },
    {
      "cell_type": "markdown",
      "metadata": {
        "id": "qt7JANYryYEk",
        "colab_type": "text"
      },
      "source": [
        "Ademais, plotamos o gráfico de f(x) com as iterações obtidas:"
      ]
    },
    {
      "cell_type": "code",
      "metadata": {
        "id": "4-qWmUp6yY9F",
        "colab_type": "code",
        "colab": {}
      },
      "source": [
        "result = graficoPontoFixo(f(x),10**(-2),0.5,1,math.pi/4)\n",
        "inicio = 0.5\n",
        "fim = 1\n",
        "z = np.arange(inicio,fim,0.001)\n",
        "    \n",
        "y = []\n",
        "w = []\n",
        "for i in range(len(z)):\n",
        "    y.append(f(x).subs(x,z[i]))\n",
        "for i in range(len(result)):\n",
        "    w.append(f(x).subs(x,result[i]))\n",
        "\n",
        "fig, ax = plt.subplots()\n",
        "ax.set(title='Gráfico função f(x)='+str(f(x)))\n",
        "ax.plot(z,y, \"-o\", markersize=2)\n",
        "plt.plot(result,w,'ro')\n",
        "ax.grid()\n",
        "plugins.connect(fig, plugins.MousePosition(fontsize=14))\n",
        "\n",
        "mpld3.display()"
      ],
      "execution_count": 0,
      "outputs": []
    },
    {
      "cell_type": "markdown",
      "metadata": {
        "id": "nUcX89qQrKol",
        "colab_type": "text"
      },
      "source": [
        "## 2. Método de Newton"
      ]
    },
    {
      "cell_type": "markdown",
      "metadata": {
        "id": "YiD37hRrryNa",
        "colab_type": "text"
      },
      "source": [
        "Para este método, usaremos o procedimento Newton(f,epsilon,a,b)."
      ]
    },
    {
      "cell_type": "markdown",
      "metadata": {
        "id": "5g9D6Q4pss4o",
        "colab_type": "text"
      },
      "source": [
        "Exemplo: usando o método de Newton, obtenha a raiz positiva da equação $x^2-2=0$ com $\\epsilon \\leq 10^{-5}$."
      ]
    },
    {
      "cell_type": "markdown",
      "metadata": {
        "id": "7q3O0G8ct4b6",
        "colab_type": "text"
      },
      "source": [
        "Solução: Inicialmente, observe que neste exemplo, obteremos uma aproximação para raiz quadrada de 2 com precisão de quatro casas decimais. De fato, definamos $f(x)=x^2-2$ e plotamos seu gráfico:"
      ]
    },
    {
      "cell_type": "code",
      "metadata": {
        "id": "HFkS64BWuQpq",
        "colab_type": "code",
        "colab": {}
      },
      "source": [
        "def f(x): return pow(x,2)-2\n",
        "plot2d(f(x), 0, 2)"
      ],
      "execution_count": 0,
      "outputs": []
    },
    {
      "cell_type": "markdown",
      "metadata": {
        "id": "Da8On5lhuj1t",
        "colab_type": "text"
      },
      "source": [
        "Pelo gráfico, sejam $a=1$ e $b=2$. Assim,"
      ]
    },
    {
      "cell_type": "code",
      "metadata": {
        "id": "up0Ig4TMulM7",
        "colab_type": "code",
        "colab": {}
      },
      "source": [
        "def f(x): return x**2-2\n",
        "newton(f(x), 0.00005, 1, 2)"
      ],
      "execution_count": 0,
      "outputs": []
    },
    {
      "cell_type": "markdown",
      "metadata": {
        "id": "sTJEADd8YhxH",
        "colab_type": "text"
      },
      "source": [
        "Podemos plotar o gráfico de f(x) com as iterações obtidas por meio do comando: graficoNewton(f,e,a,b)"
      ]
    },
    {
      "cell_type": "code",
      "metadata": {
        "id": "3qn4rdeeWZ6R",
        "colab_type": "code",
        "colab": {}
      },
      "source": [
        "result = graficoNewton(f(x), 0.00005, 1, 2)\n",
        "inicio = 1\n",
        "fim = 2\n",
        "z = np.arange(inicio,fim,0.001)\n",
        "    \n",
        "y = []\n",
        "w = []\n",
        "for i in range(len(z)):\n",
        "    y.append(f(x).subs(x,z[i]))\n",
        "for i in range(len(result)):\n",
        "    w.append(f(x).subs(x,result[i]))\n",
        "\n",
        "fig, ax = plt.subplots()\n",
        "ax.set(title='Gráfico função f(x)='+str(f(x)))\n",
        "ax.plot(z,y, \"-o\", markersize=2)\n",
        "plt.plot(result, w,'ro')\n",
        "ax.grid()\n",
        "plugins.connect(fig, plugins.MousePosition(fontsize=14))\n",
        "\n",
        "mpld3.display()"
      ],
      "execution_count": 0,
      "outputs": []
    },
    {
      "cell_type": "markdown",
      "metadata": {
        "id": "gQmKNF_6va_T",
        "colab_type": "text"
      },
      "source": [
        "Exemplo: Usando o método de Newton, obtenha uma aproximação para a solução da equação $f(x)=cos(x)-x$ com $\\epsilon \\leq 10^{-2}$.\n"
      ]
    },
    {
      "cell_type": "markdown",
      "metadata": {
        "id": "uyVJP6ff5aak",
        "colab_type": "text"
      },
      "source": [
        "Solução: Sabemos do segundo exemplo visto na seção \"método do ponto fixo\" que $a=0.5$, $b=1$ e $x_0 = \\frac{\\pi}{4}$. Logo,"
      ]
    },
    {
      "cell_type": "code",
      "metadata": {
        "id": "PZFUtAYq5w8D",
        "colab_type": "code",
        "colab": {}
      },
      "source": [
        "def f(x): return cos(x) - x\n",
        "newton(f(x), 10**(-2), 0.5, math.pi/4)"
      ],
      "execution_count": 0,
      "outputs": []
    },
    {
      "cell_type": "markdown",
      "metadata": {
        "id": "pfZWAUZVYxn5",
        "colab_type": "text"
      },
      "source": [
        "O gráfico de f(x) com as iterações é dado a seguir:"
      ]
    },
    {
      "cell_type": "code",
      "metadata": {
        "id": "R0cfXzsTYygJ",
        "colab_type": "code",
        "colab": {}
      },
      "source": [
        "result = graficoNewton(f(x), 10**(-2), 0.5, math.pi/4)\n",
        "inicio = 0.5\n",
        "fim = 1\n",
        "z = np.arange(inicio,fim,0.001)\n",
        "    \n",
        "y = []\n",
        "w = []\n",
        "for i in range(len(z)):\n",
        "    y.append(f(x).subs(x,z[i]))\n",
        "for i in range(len(result)):\n",
        "    w.append(f(x).subs(x,result[i]))\n",
        "\n",
        "fig, ax = plt.subplots()\n",
        "ax.set(title='Gráfico função f(x)='+str(f(x)))\n",
        "ax.plot(z,y, \"-o\", markersize=2)\n",
        "plt.plot(result, w,'ro')\n",
        "ax.grid()\n",
        "plugins.connect(fig, plugins.MousePosition(fontsize=14))\n",
        "\n",
        "mpld3.display()"
      ],
      "execution_count": 0,
      "outputs": []
    },
    {
      "cell_type": "markdown",
      "metadata": {
        "id": "Y39zeTCW8j80",
        "colab_type": "text"
      },
      "source": [
        "## 3. Método da Secante"
      ]
    },
    {
      "cell_type": "markdown",
      "metadata": {
        "id": "-hd-ym1v8zrZ",
        "colab_type": "text"
      },
      "source": [
        "Nesta seção, o procedimento a ser usado é secante(f,epsilon,a,b)."
      ]
    },
    {
      "cell_type": "markdown",
      "metadata": {
        "id": "XJVEBi5DE614",
        "colab_type": "text"
      },
      "source": [
        "Exemplo: Utilize o método da secante para encontrar uma solução de $x=cos(x) - x$ com $\\epsilon \\leq 10^{-5}$."
      ]
    },
    {
      "cell_type": "markdown",
      "metadata": {
        "id": "hqUsRycdFYrg",
        "colab_type": "text"
      },
      "source": [
        "Solução: Como visto anteriormente, $a=0.5$, $b=1$ e $x_0=\\frac{\\pi}{4}$. Logo,"
      ]
    },
    {
      "cell_type": "code",
      "metadata": {
        "id": "XAKjkuuFF0GZ",
        "colab_type": "code",
        "colab": {}
      },
      "source": [
        "def f(x): return cos(x) - x\n",
        "secante(f(x), 10**(-5), 0.5, math.pi/4)"
      ],
      "execution_count": 0,
      "outputs": []
    },
    {
      "cell_type": "code",
      "metadata": {
        "id": "d2jRJen3b6KM",
        "colab_type": "code",
        "colab": {}
      },
      "source": [
        "result = graficoSecante(f(x), 10**(-5), 0.5, math.pi/4)\n",
        "inicio = 0.5\n",
        "fim = 1\n",
        "z = np.arange(inicio,fim,0.001)\n",
        "    \n",
        "y = []\n",
        "w = []\n",
        "for i in range(len(z)):\n",
        "    y.append(f(x).subs(x,z[i]))\n",
        "for i in range(len(result)):\n",
        "    w.append(f(x).subs(x,result[i]))\n",
        "\n",
        "fig, ax = plt.subplots()\n",
        "ax.set(title='Gráfico função f(x)='+str(f(x)))\n",
        "ax.plot(z,y, \"-o\", markersize=2)\n",
        "plt.plot(result, w,'ro')\n",
        "ax.grid()\n",
        "plugins.connect(fig, plugins.MousePosition(fontsize=14))\n",
        "\n",
        "mpld3.display()"
      ],
      "execution_count": 0,
      "outputs": []
    },
    {
      "cell_type": "markdown",
      "metadata": {
        "id": "cE-G0DuIGzlp",
        "colab_type": "text"
      },
      "source": [
        "Exemplo: Determine uma raiz de $f(x)=x^3-4x^2+x+6$ com $\\epsilon \\leq 10^{-2}$.\n",
        "\n",
        "Solução: Definamos f e plotamos seu gráfico:"
      ]
    },
    {
      "cell_type": "code",
      "metadata": {
        "id": "hUVnmOzfG_Ki",
        "colab_type": "code",
        "colab": {}
      },
      "source": [
        "def f(x): return x**3 - 4*x**2 + x + 6\n",
        "plot2d(f(x), 0, 3)"
      ],
      "execution_count": 0,
      "outputs": []
    },
    {
      "cell_type": "markdown",
      "metadata": {
        "id": "egVEmO7wH0ru",
        "colab_type": "text"
      },
      "source": [
        "Pelo gráfico, escolhamos por exemplo, $x_0=1.4$ e $x_1=2.2$. Logo,"
      ]
    },
    {
      "cell_type": "code",
      "metadata": {
        "id": "4t8Gx6xWIkfS",
        "colab_type": "code",
        "colab": {}
      },
      "source": [
        "def f(x): return x**3-4*x**2+x+6\n",
        "secante(f(x), 10**-2, 1.4, 2.2)"
      ],
      "execution_count": 0,
      "outputs": []
    },
    {
      "cell_type": "markdown",
      "metadata": {
        "id": "i8Cr_7jMdDDX",
        "colab_type": "text"
      },
      "source": [
        "Como de praxe em cada exemplo, vamos plotar o gráfico das iterações com a função f(x):"
      ]
    },
    {
      "cell_type": "code",
      "metadata": {
        "id": "vYD-XMsrdLI6",
        "colab_type": "code",
        "colab": {}
      },
      "source": [
        "result = graficoSecante(f(x), 10**(-2), 1.4, 2.2)\n",
        "inicio = 1.4\n",
        "fim = 2.2\n",
        "z = np.arange(inicio,fim,0.001)\n",
        "    \n",
        "y = []\n",
        "w = []\n",
        "for i in range(len(z)):\n",
        "    y.append(f(x).subs(x,z[i]))\n",
        "for i in range(len(result)):\n",
        "    w.append(f(x).subs(x,result[i]))\n",
        "\n",
        "fig, ax = plt.subplots()\n",
        "ax.set(title='Gráfico função f(x)='+str(f(x)))\n",
        "ax.plot(z,y, \"-o\", markersize=2)\n",
        "plt.plot(result, w,'ro')\n",
        "ax.grid()\n",
        "plugins.connect(fig, plugins.MousePosition(fontsize=14))\n",
        "\n",
        "mpld3.display()"
      ],
      "execution_count": 0,
      "outputs": []
    },
    {
      "cell_type": "markdown",
      "metadata": {
        "id": "YlvCE7qDLz5N",
        "colab_type": "text"
      },
      "source": [
        "## 4. Método da Falsa Posição (Regula Falsi)"
      ]
    },
    {
      "cell_type": "markdown",
      "metadata": {
        "id": "c36V22hnL6RJ",
        "colab_type": "text"
      },
      "source": [
        "O procedimento a ser usado é regulaFalsi(f,epsilon,a,b).\n",
        "\n",
        "Exemplo: Utilize o método Regula Falsi para encontrar uma solução de $x=cos(x)$ com $\\epsilon \\leq 10^{-5}$.\n",
        "\n",
        "Solução: Sabemos dos exemplos anteriores que $a=0.5$, $b=1$ e $x_0=\\frac{\\pi}{4}$. Deste modo,"
      ]
    },
    {
      "cell_type": "code",
      "metadata": {
        "id": "razDRoYjMnbs",
        "colab_type": "code",
        "colab": {}
      },
      "source": [
        "def f(x): return cos(x)-x\n",
        "regulaFalsi(f(x), 0.00001, 0.5, math.pi/4)"
      ],
      "execution_count": 0,
      "outputs": []
    },
    {
      "cell_type": "markdown",
      "metadata": {
        "id": "Xy5ak8aEf-i0",
        "colab_type": "text"
      },
      "source": [
        "Finalmente, plotando o gráfico de f(x) contendo as iterações obtidas, temos:"
      ]
    },
    {
      "cell_type": "code",
      "metadata": {
        "id": "2V3mo7GSeI1X",
        "colab_type": "code",
        "colab": {}
      },
      "source": [
        "result = graficoRegulaFalsi(f(x), 0.00001, 0.5, math.pi/4)\n",
        "inicio = 0.5\n",
        "fim = 1\n",
        "z = np.arange(inicio,fim,0.001)\n",
        "print(result[0])\n",
        "y = []\n",
        "w = []\n",
        "for i in range(len(z)):\n",
        "    y.append(f(x).subs(x,z[i]))\n",
        "for i in range(len(result)):\n",
        "    w.append(f(x).subs(x,result[i]))\n",
        "\n",
        "fig, ax = plt.subplots()\n",
        "ax.set(title='Gráfico função f(x)='+str(f(x)))\n",
        "ax.plot(z,y, \"-o\", markersize=2)\n",
        "plt.plot(result, w,'ro')\n",
        "ax.grid()\n",
        "plugins.connect(fig, plugins.MousePosition(fontsize=14))\n",
        "\n",
        "mpld3.display()"
      ],
      "execution_count": 0,
      "outputs": []
    }
  ]
}