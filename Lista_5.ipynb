{
  "nbformat": 4,
  "nbformat_minor": 0,
  "metadata": {
    "colab": {
      "name": "Lista5.ipynb",
      "provenance": [],
      "collapsed_sections": [],
      "authorship_tag": "ABX9TyOWAOFLAb8lQ3DZHFj/L1m0",
      "include_colab_link": true
    },
    "kernelspec": {
      "name": "python3",
      "display_name": "Python 3"
    }
  },
  "cells": [
    {
      "cell_type": "markdown",
      "metadata": {
        "id": "view-in-github",
        "colab_type": "text"
      },
      "source": [
        "<a href=\"https://colab.research.google.com/github/EnzoItaliano/calculoNumericoEmPython/blob/master/Lista5.ipynb\" target=\"_parent\"><img src=\"https://colab.research.google.com/assets/colab-badge.svg\" alt=\"Open In Colab\"/></a>"
      ]
    },
    {
      "cell_type": "markdown",
      "metadata": {
        "id": "K52ephhyxS_i",
        "colab_type": "text"
      },
      "source": [
        "Universidade Tecnológica Federal do Paraná  \n",
        "Professor: Wellington José Corrêa  \n",
        "Orientando: Enzo Dornelles Italiano  \n",
        "Cálculo Numérico"
      ]
    },
    {
      "cell_type": "markdown",
      "metadata": {
        "id": "6WqN9GfAxS72",
        "colab_type": "text"
      },
      "source": [
        "# Integração Numérica"
      ]
    },
    {
      "cell_type": "markdown",
      "metadata": {
        "id": "7-Y6tgLJxoxX",
        "colab_type": "text"
      },
      "source": [
        "Como de costume, devemos executar os códigos abaixo antes de executar."
      ]
    },
    {
      "cell_type": "markdown",
      "metadata": {
        "id": "xjAXXRXxHbLq",
        "colab_type": "text"
      },
      "source": [
        "## Códigos"
      ]
    },
    {
      "cell_type": "code",
      "metadata": {
        "id": "R87txFMzxFOC",
        "colab_type": "code",
        "colab": {}
      },
      "source": [
        "# !pip install mpld3\n",
        "# !pip install \"git+https://github.com/javadba/mpld3@display_fix\"\n",
        "import copy\n",
        "import math\n",
        "import mpld3\n",
        "import numpy as np\n",
        "from sympy import *\n",
        "from mpld3 import plugins\n",
        "import matplotlib.pyplot as plt\n",
        "x,t = symbols('x t')\n",
        "\n",
        "def  trapezio(f, a, b):\n",
        "    h = b - a\n",
        "    print(\"O valor de h é \", h)\n",
        "    deriv = h/2*(f.subs(x,a)+f.subs(x,b))\n",
        "    exact = integrate(f, (x, a, b))\n",
        "    print(\"Pela Regra do Trapézio, temos que a integral\")\n",
        "    pprint(Integral(f, (x, a, b)), use_unicode=True)\n",
        "    print(\"é aproximadamente\", deriv)\n",
        "\n",
        "    print(\"\\nComo comparação, o valor exato da integral\")\n",
        "    pprint(Integral(f, (x, a, b)), use_unicode=True)\n",
        "    print(\"é\", exact)\n",
        "\n",
        "    f = diff(f, x, 2)\n",
        "    maior = abs(f.subs(x,a))\n",
        "    if abs(f.subs(x,b)) > maior:\n",
        "        maior = abs(f.subs(x,b))\n",
        "    E = (-h**3/12)*maior\n",
        "    print(\"\\nLimitante\")\n",
        "    print(\"|E| <=\", abs(E))\n",
        "\n",
        "def trapezio_gen(f, a, b, n):\n",
        "    h = (b - a)/n\n",
        "    print(\"O valor de h é\", h)\n",
        "    xk = np.linspace(a,b,n+1)\n",
        "    fx = 0\n",
        "    for i in range(len(xk)):\n",
        "        if i == 0 or i == len(xk)-1:\n",
        "            fx += f.subs(x, xk[i])\n",
        "        else:\n",
        "            fx += 2*f.subs(x, xk[i])\n",
        "    deriv = (h/2)*fx\n",
        "    exact = integrate(f, (x, a, b))\n",
        "    print(\"Pela Regra do Trapézio, temos que a integral\")\n",
        "    pprint(Integral(f, (x, a, b)), use_unicode=True)\n",
        "    print(\"é aproximadamente\", deriv)\n",
        "\n",
        "    print(\"\\nComo comparação, o valor exato da integral\")\n",
        "    pprint(Integral(f, (x, a, b)), use_unicode=True)\n",
        "    print(\"é\", exact)\n",
        "\n",
        "    f = diff(f, x, 2)\n",
        "    maior = abs(f.subs(x,a))\n",
        "    if abs(f.subs(x,b)) > maior:\n",
        "        maior = abs(f.subs(x,b))\n",
        "    E = (h**2/12)*maior*(b-a)\n",
        "    print(\"\\nLimitante\")\n",
        "    print(\"|E| <=\", abs(E))\n",
        "\n",
        "def simpson13(f, a, b, n):\n",
        "    h = (b - a)/n\n",
        "    xk = np.linspace(a,b,n+1)\n",
        "    fx = 0\n",
        "    for i in range(len(xk)):\n",
        "        if i == 0 or i == len(xk)-1:\n",
        "            fx += f.subs(x, xk[i])\n",
        "        elif i % 2 == 0:\n",
        "            fx += 2*f.subs(x, xk[i])\n",
        "        else:\n",
        "            fx += 4*f.subs(x, xk[i])\n",
        "    deriv = (h/3)*fx\n",
        "    exact = integrate(f, (x, a, b)).evalf()\n",
        "\n",
        "    print(\"Pela Regra 1/3 de Simpson, temos que a integral\")\n",
        "    pprint(Integral(f, (x, a, b)), use_unicode=True)\n",
        "    print(\"é aproximadamente\", deriv)\n",
        "\n",
        "    print(\"\\nComo comparação, o valor exato da integral\")\n",
        "    pprint(Integral(f, (x, a, b)), use_unicode=True)\n",
        "    print(\"é\", exact)\n",
        "\n",
        "    f = diff(f, x, 4)\n",
        "    maior = abs(f.subs(x,a))\n",
        "    if abs(f.subs(x,b)) > maior:\n",
        "        maior = abs(f.subs(x,b))\n",
        "    E = (h**4/180)*maior*(b-a)\n",
        "    print(\"\\nLimitante\")\n",
        "    print(\"|E| <=\", abs(E.evalf()))\n",
        "\n",
        "def calc_parabola_vertex(x1, y1, x2, y2, x3, y3):\n",
        "    denom = (x1-x2) * (x1-x3) * (x2-x3);\n",
        "    A     = (x3 * (y2-y1) + x2 * (y1-y3) + x1 * (y3-y2)) / denom;\n",
        "    B     = (x3*x3 * (y1-y2) + x2*x2 * (y3-y1) + x1*x1 * (y2-y3)) / denom;\n",
        "    C     = (x2 * x3 * (x2-x3) * y1+x3 * x1 * (x3-x1) * y2+x1 * x2 * (x1-x2) * y3) / denom;\n",
        "    return A,B,C\n",
        "\n",
        "def simpson_tabela13(a,b,n,y):\n",
        "    h = (b - a)/n\n",
        "    xk = np.linspace(a,b,n+1)\n",
        "    fx = 0\n",
        "    for i in range(len(xk)):\n",
        "        if i == 0 or i == len(xk)-1:\n",
        "            fx += y[i]\n",
        "        elif i % 2 == 0:\n",
        "            fx += 2*y[i]\n",
        "        else:\n",
        "            fx += 4*y[i]\n",
        "    deriv = (h/3)*fx\n",
        "    print(\"O valor da integral é aproximadamente\", deriv)\n",
        "\n",
        "def simpson38(f,a,b,n):\n",
        "    h = (b-a)/n\n",
        "    xk = np.linspace(a,b,n+1)\n",
        "    fx = 0\n",
        "    for i in range(len(xk)):\n",
        "        if i == 0 or i == len(xk)-1:\n",
        "            fx += f.subs(x,xk[i])\n",
        "        elif i % 3 == 0:\n",
        "            fx += 2*f.subs(x,xk[i])\n",
        "        else:\n",
        "            fx += 3*f.subs(x,xk[i])\n",
        "    deriv = (3/8)*h*fx\n",
        "    exact = integrate(f, (x, a, b)).evalf()\n",
        "\n",
        "    print(\"Pela Regra 1/3 de Simpson, temos que a integral\")\n",
        "    pprint(Integral(f, (x, a, b)), use_unicode=True)\n",
        "    print(\"é aproximadamente\", deriv)\n",
        "\n",
        "    print(\"\\nComo comparação, o valor exato da integral\")\n",
        "    pprint(Integral(f, (x, a, b)), use_unicode=True)\n",
        "    print(\"é\", exact)\n",
        "\n",
        "    f = diff(f, x, 4)\n",
        "    maior = abs(f.subs(x,a))\n",
        "    if abs(f.subs(x,b)) > maior:\n",
        "        maior = abs(f.subs(x,b))\n",
        "    E = (h**4/80)*maior*(b-a)\n",
        "    print(\"\\nLimitante\")\n",
        "    print(\"|E| <=\", abs(E.evalf()))\n",
        "\n",
        "def simpson_tabela38(a,b,n,y):\n",
        "    h = (b - a)/n\n",
        "    xk = np.linspace(a,b,n+1)\n",
        "    fx = 0\n",
        "    for i in range(len(xk)):\n",
        "        if i == 0 or i == len(xk)-1:\n",
        "            fx += y[i]\n",
        "        elif i % 3 == 0:\n",
        "            fx += 2*y[i]\n",
        "        else:\n",
        "            fx += 3*y[i]\n",
        "    deriv = (3/8)*h*fx\n",
        "    print(\"O valor da integral é aproximadamente\", deriv)\n",
        "\n",
        "def quadGauss(f, a, b, n):\n",
        "    table = [[[0.5773502692, 1],[-0.5773502692, 1]],\n",
        "             [[0.7745966692, 0.5555555556],[0, 0.8888888889],[-0.7745966692, 0.555555556]],\n",
        "             [[0.8611363116, 0.3478548451],[0.3399810436, 0.6521451549],[-0.3399810436, 0.6521451549],[0.8611363116, 0.3478548451]],\n",
        "             [[0.9061798459, 0.2369268850],[0.5384693101, 0.4786286705],[0, 0.5688888889],[-0.5384693101, 0.4786286705],[-0.9061798459, 0.2369268850]]]\n",
        "    \n",
        "    g = f.subs(x, ((1/2)*((b-a)*t+a+b)))\n",
        "    expr = lambdify(t, g, \"numpy\")\n",
        "    if n > 2:\n",
        "        soma = 0\n",
        "        for i in range(n):\n",
        "            soma += table[n-2][i][1]*expr(table[n-2][i][0])\n",
        "        result = ((b-a)/2)*soma\n",
        "    else:\n",
        "        soma = 0\n",
        "        for i in range(n):\n",
        "            soma += expr(table[n-2][i][0])\n",
        "        result = ((b-a)/2)*soma\n",
        "    print(\"O valor aproximado da integral\")\n",
        "    pprint(Integral(f, (x, a, b)), use_unicode=True)\n",
        "    print(\"é\", result)"
      ],
      "execution_count": 0,
      "outputs": []
    },
    {
      "cell_type": "markdown",
      "metadata": {
        "id": "9ylw4d2YxybP",
        "colab_type": "text"
      },
      "source": [
        "## 1. Regra dos Trapézios"
      ]
    },
    {
      "cell_type": "markdown",
      "metadata": {
        "id": "L7bJ1KkwzdZX",
        "colab_type": "text"
      },
      "source": [
        "### 1.1 Regra dos trapézios simples"
      ]
    },
    {
      "cell_type": "markdown",
      "metadata": {
        "id": "7BCdcsLt0Ase",
        "colab_type": "text"
      },
      "source": [
        "O procedimento que usaremos para calcular a integral definida via Regra dos trapézios é trapezio(f,a,b)\n",
        "\n",
        "Exemplo:Calcule o valor aproximado da integral definida da função $f(x)=ln(x)+x$ entre 0,5 e\n",
        "1, usando a regra do trapézios e determine um limitante superior.\n",
        "\n",
        "Solução: inicialmente, definamos $f$ e os pontos a e b:"
      ]
    },
    {
      "cell_type": "code",
      "metadata": {
        "id": "ldcZnYVm0TE5",
        "colab_type": "code",
        "colab": {}
      },
      "source": [
        "def f(x): return log(x)+x\n",
        "a = 0.5\n",
        "b = 1"
      ],
      "execution_count": 0,
      "outputs": []
    },
    {
      "cell_type": "markdown",
      "metadata": {
        "id": "Nhu5ER_u0Zop",
        "colab_type": "text"
      },
      "source": [
        "Usando o procedimento citado anteriormente, temos que"
      ]
    },
    {
      "cell_type": "code",
      "metadata": {
        "id": "ufRQ8Qeg0awG",
        "colab_type": "code",
        "colab": {}
      },
      "source": [
        "trapezio(f(x), a, b)"
      ],
      "execution_count": 0,
      "outputs": []
    },
    {
      "cell_type": "markdown",
      "metadata": {
        "id": "OVk_WmoC1E4R",
        "colab_type": "text"
      },
      "source": [
        "Para plotar o gráfico de $f(x)$ e o trapézio construído, usemos o comando:"
      ]
    },
    {
      "cell_type": "code",
      "metadata": {
        "id": "tOxt_YlC4EVI",
        "colab_type": "code",
        "colab": {}
      },
      "source": [
        "fig, ax = plt.subplots()\n",
        "z = np.arange(a,b+0.001,0.001)\n",
        "\n",
        "y = lambdify(x, f(x), \"numpy\")\n",
        "\n",
        "pontos = [[a,b],[y(a), y(b)]]\n",
        "\n",
        "ax.fill_between([a,b],pontos[1], color=\"red\")\n",
        "ax.plot(z,y(z), \"black\")\n",
        "ax.plot(pontos[0],pontos[1])\n",
        "\n",
        "ax.grid()\n",
        "plugins.connect(fig, plugins.MousePosition(fontsize=14))\n",
        "\n",
        "mpld3.display()"
      ],
      "execution_count": 0,
      "outputs": []
    },
    {
      "cell_type": "markdown",
      "metadata": {
        "id": "4mcRdCyi5eds",
        "colab_type": "text"
      },
      "source": [
        "### 1.2 Regra do trapézio generalizada"
      ]
    },
    {
      "cell_type": "markdown",
      "metadata": {
        "id": "IZ6KU8HM5p0_",
        "colab_type": "text"
      },
      "source": [
        "Neste momento, o procedimento é para calcular a integral definida pela regra dos trapézios generalizada é trapezio_gen(f,a,b,n)\n",
        "\n",
        "Exemplo: Calcule o valor aproximado da integral definida de $x^{(1/2)}$ entre 1 e 4 usando a regra dos trapézios generalizada para 6 subintervalos e determine um limitante para o erro:\n",
        "\n",
        "Solução: De fato, de antemão, definamos $f$, a, b e n:"
      ]
    },
    {
      "cell_type": "code",
      "metadata": {
        "id": "8R5Jadji6pZR",
        "colab_type": "code",
        "colab": {}
      },
      "source": [
        "def f(x): return sqrt(x)\n",
        "a = 1\n",
        "b = 4\n",
        "n = 6"
      ],
      "execution_count": 0,
      "outputs": []
    },
    {
      "cell_type": "markdown",
      "metadata": {
        "id": "CwpM4Lmg6sz5",
        "colab_type": "text"
      },
      "source": [
        "Fazendo uso do procedimento trapezio_gen, temos:"
      ]
    },
    {
      "cell_type": "code",
      "metadata": {
        "id": "sUDOABe-6wpI",
        "colab_type": "code",
        "colab": {}
      },
      "source": [
        "trapezio_gen(f(x), a, b, n)"
      ],
      "execution_count": 0,
      "outputs": []
    },
    {
      "cell_type": "markdown",
      "metadata": {
        "id": "NR0EEgMK7TpV",
        "colab_type": "text"
      },
      "source": [
        "Por fim, o gráfico de $f(x)$ com os trapézios é dado por:"
      ]
    },
    {
      "cell_type": "code",
      "metadata": {
        "id": "RbG063oS7WYR",
        "colab_type": "code",
        "colab": {}
      },
      "source": [
        "fig, ax = plt.subplots()\n",
        "z = np.arange(a,b+0.001,0.001)\n",
        "\n",
        "y = lambdify(x, f(x), \"numpy\")\n",
        "\n",
        "pontos = [[a,b],[y(a), y(b)]]\n",
        "\n",
        "ax.fill_between([a,b],pontos[1], color=\"red\")\n",
        "ax.plot(z,y(z), \"black\")\n",
        "ax.plot(pontos[0],pontos[1])\n",
        "\n",
        "ax.grid()\n",
        "plugins.connect(fig, plugins.MousePosition(fontsize=14))\n",
        "\n",
        "mpld3.display()"
      ],
      "execution_count": 0,
      "outputs": []
    },
    {
      "cell_type": "markdown",
      "metadata": {
        "id": "mrpFEaRM8DoO",
        "colab_type": "text"
      },
      "source": [
        "## 2. Regra de Simpson"
      ]
    },
    {
      "cell_type": "markdown",
      "metadata": {
        "id": "MIEZ9b0g8cAX",
        "colab_type": "text"
      },
      "source": [
        "###  2.1 Regra $\\frac{1}{3}$ de Simpson"
      ]
    },
    {
      "cell_type": "markdown",
      "metadata": {
        "id": "JvC5wASE8vMe",
        "colab_type": "text"
      },
      "source": [
        "Estudaremos duas situações:"
      ]
    },
    {
      "cell_type": "markdown",
      "metadata": {
        "id": "8F4uqq148zmO",
        "colab_type": "text"
      },
      "source": [
        "(a) Quando f é dada analiticamente.\n",
        "\n",
        "Neste caso, o procedimento é simpson13(f,a,b,n)\n",
        "\n",
        "Exemplo: Usando a regra $\\frac{1}{3}$ de Simpson para 4 subintervalos, calcule o valor aproximado da integral definida de $x*e^x+1$ no intervalo\n",
        "$[0,3]$ e determine um limitante superior para o erro.\n",
        "\n",
        "Solução: Definamos $f(x)$, a, b e n:"
      ]
    },
    {
      "cell_type": "code",
      "metadata": {
        "id": "jK7kJkE89TcQ",
        "colab_type": "code",
        "colab": {}
      },
      "source": [
        "def f(x): return x*exp(x)+1\n",
        "a = 0\n",
        "b = 3\n",
        "n = 4"
      ],
      "execution_count": 0,
      "outputs": []
    },
    {
      "cell_type": "markdown",
      "metadata": {
        "id": "bYF4TM1d9dPi",
        "colab_type": "text"
      },
      "source": [
        "Assim, a integral definida pela regra $\\frac{1}{3}$ de Simpson é"
      ]
    },
    {
      "cell_type": "code",
      "metadata": {
        "id": "Lp7nblbK9lFE",
        "colab_type": "code",
        "colab": {}
      },
      "source": [
        "simpson13(f(x), a, b, n)"
      ],
      "execution_count": 0,
      "outputs": []
    },
    {
      "cell_type": "markdown",
      "metadata": {
        "id": "gVJaXfwX_8bK",
        "colab_type": "text"
      },
      "source": [
        "Podemos exibir as parábolas interpoladoras juntamente com $f(x)$:"
      ]
    },
    {
      "cell_type": "code",
      "metadata": {
        "id": "jErB0c35ANno",
        "colab_type": "code",
        "colab": {}
      },
      "source": [
        "xk = np.linspace(a,b,n+1)\n",
        "fx = []\n",
        "y = []\n",
        "for j in range(n-1):\n",
        "    for i in range(len(xk)):\n",
        "        fx.append(f(x).subs(x,xk[i]))\n",
        "    A,B,C = calc_parabola_vertex(xk[j],fx[j],xk[j+1],fx[j+1],xk[j+2],fx[j+2])\n",
        "    y.append(A*x**2 + B*x + C)\n",
        "\n",
        "fig, ax = plt.subplots()\n",
        "z = []\n",
        "w = []\n",
        "for i in range(n-1):\n",
        "    z.append(np.arange(xk[i],xk[i+2]+0.001,0.001))\n",
        "\n",
        "    w.append(lambdify(x, y[i], \"numpy\"))\n",
        "    ax.plot(z[i],w[i](z[i]), label=\"Parabola \"+str(i+1))\n",
        "\n",
        "c = np.arange(a,b+0.001,0.001)\n",
        "m = []\n",
        "for i in range(len(c)):\n",
        "    m.append(f(x).subs(x,c[i]))\n",
        "ax.plot(c,m, label=\"f(x)\")\n",
        "ax.legend()\n",
        "ax.grid()\n",
        "plugins.connect(fig, plugins.MousePosition(fontsize=14))\n",
        "\n",
        "mpld3.display()"
      ],
      "execution_count": 0,
      "outputs": []
    },
    {
      "cell_type": "markdown",
      "metadata": {
        "id": "bONj1awaB8FE",
        "colab_type": "text"
      },
      "source": [
        "(b) Quando f é dada por um conjunto de pontos discretos (tabela):\n",
        "\n",
        "Neste caso, usaremos: simpson_tabela13(a,b,n,y)\n",
        "\n",
        "Exemplo: Considere $f(x)$ dada pela tabela:\n",
        "\n",
        "| x    | 0    | 1    | 2    | 3    | 4    | 5    | 6    |\n",
        "|------|------|------|------|------|------|------|------|\n",
        "| f(x) | 0.21 | 0.32 | 0.42 | 0.51 | 0.82 | 0.91 | 1.12 |\n",
        "\n",
        "Do exposto, calcule a integral de $f(x)$ entre 0 e 6.\n",
        "\n",
        "Solução: Primeiramente, declaramos os valores de a, b, n e a tabela citada:"
      ]
    },
    {
      "cell_type": "code",
      "metadata": {
        "id": "0wHgLsIsCvfB",
        "colab_type": "code",
        "colab": {}
      },
      "source": [
        "a = 0\n",
        "b = 6\n",
        "n = 6\n",
        "y = [0.21,0.32,0.42,0.51,0.82,0.91,1.12]"
      ],
      "execution_count": 0,
      "outputs": []
    },
    {
      "cell_type": "markdown",
      "metadata": {
        "id": "57roR6R4DHLN",
        "colab_type": "text"
      },
      "source": [
        "Deste modo, temos que o valor da integral é aproxidamente:"
      ]
    },
    {
      "cell_type": "code",
      "metadata": {
        "id": "uFsd5Q_NDIQ3",
        "colab_type": "code",
        "colab": {
          "base_uri": "https://localhost:8080/",
          "height": 34
        },
        "outputId": "495016a2-625f-4c48-eb3d-c39adb3f043c"
      },
      "source": [
        "simpson_tabela13(a,b,n,y)"
      ],
      "execution_count": 61,
      "outputs": [
        {
          "output_type": "stream",
          "text": [
            "O valor da integral é aproximadamente 3.59\n"
          ],
          "name": "stdout"
        }
      ]
    },
    {
      "cell_type": "markdown",
      "metadata": {
        "id": "9dVrj_UBDbzy",
        "colab_type": "text"
      },
      "source": [
        "### 2.2 Regra $\\frac{3}{8}$ de Simpson"
      ]
    },
    {
      "cell_type": "markdown",
      "metadata": {
        "id": "sVki8JK0Dw3B",
        "colab_type": "text"
      },
      "source": [
        "Como na regra $\\frac{1}{3}$ de Simpson, estudaremos duas situações:"
      ]
    },
    {
      "cell_type": "markdown",
      "metadata": {
        "id": "udmaQ3X1D3m1",
        "colab_type": "text"
      },
      "source": [
        "(a) Quando f é dada analiticamente.\n",
        "\n",
        "Neste caso, o procedimento é para calcular a integral definida é simpson38(f,a,b,n)\n",
        "\n",
        "Exemplo: Calcule o valor aproximado da integral de $ln(x+9)$ entre 1 e 7 usando a regra $\\frac{3}{8} de Simpson e determine um limitante superior \n",
        "para o erro para 6 subintervalos:\n",
        "\n",
        "Solução: Declarando os valores de $f(x)$, a, b e n, temos:"
      ]
    },
    {
      "cell_type": "code",
      "metadata": {
        "id": "jNIEaaB4ENSZ",
        "colab_type": "code",
        "colab": {}
      },
      "source": [
        "def f(x): return log(x+9)\n",
        "a = 1\n",
        "b = 7\n",
        "n = 6"
      ],
      "execution_count": 0,
      "outputs": []
    },
    {
      "cell_type": "markdown",
      "metadata": {
        "id": "NKg7Rx2KEXAH",
        "colab_type": "text"
      },
      "source": [
        "Assim, empregando comando para o cálculo da integral, resulta:"
      ]
    },
    {
      "cell_type": "code",
      "metadata": {
        "id": "kA_P9rkHEkHt",
        "colab_type": "code",
        "colab": {}
      },
      "source": [
        "simpson38(f(x), a,b,n)"
      ],
      "execution_count": 0,
      "outputs": []
    },
    {
      "cell_type": "markdown",
      "metadata": {
        "id": "YoZXy3AkE-Ib",
        "colab_type": "text"
      },
      "source": [
        "(b) Quando f é dada por um conjunto de pontos discretos (tabela):\n",
        "\n",
        "Neste caso, usaremos: simpson_tabela38(a,b,n,y)\n",
        "\n",
        "Exemplo: Considere $f(x)$ dada pela tabela:\n",
        "\n",
        "| x    | 0    | 1    | 2    | 3    | 4    | 5    | 6    |\n",
        "|------|------|------|------|------|------|------|------|\n",
        "| f(x) | 0.21 | 0.32 | 0.42 | 0.51 | 0.82 | 0.91 | 1.12 |\n",
        "\n",
        "Do exposto, calcule a integral de $f(x)$ entre 0 e 6.\n",
        "\n",
        "\n",
        "Solução: Primeiramente, declaramos os valores de a, b, n e a tabela citada:"
      ]
    },
    {
      "cell_type": "code",
      "metadata": {
        "id": "dfoXkc_RFe3-",
        "colab_type": "code",
        "colab": {}
      },
      "source": [
        "a = 0\n",
        "b = 6\n",
        "n = 6\n",
        "y = [0.21,0.32,0.42,0.51,0.82,0.91,1.12]"
      ],
      "execution_count": 0,
      "outputs": []
    },
    {
      "cell_type": "markdown",
      "metadata": {
        "id": "UtUnqwJ_Ff7Z",
        "colab_type": "text"
      },
      "source": [
        "Deste modo, temos que o valor da integral é aproxidamente:"
      ]
    },
    {
      "cell_type": "code",
      "metadata": {
        "id": "87rHxbMqFjox",
        "colab_type": "code",
        "colab": {}
      },
      "source": [
        "simpson_tabela38(a,b,n,y)"
      ],
      "execution_count": 0,
      "outputs": []
    },
    {
      "cell_type": "markdown",
      "metadata": {
        "id": "UsWUddnAFwIR",
        "colab_type": "text"
      },
      "source": [
        "## 3. Quadratura de Gauss"
      ]
    },
    {
      "cell_type": "markdown",
      "metadata": {
        "id": "F4y1VFeyF0tb",
        "colab_type": "text"
      },
      "source": [
        "O procedimento aqui é quadGauss(f,a,b,n)\n",
        "\n",
        "onde $[a,b]$ é um intervalo arbitrário e n = 2,3,4,5 (veja páginas 3-5 e exercício 7 da lista\n",
        "5).\n",
        "\n",
        "Exemplo: Obtenha uma aproximação para a integral da função $f(x)=e^{-x^2}$ de 1 a 1.5,\n",
        "utilizando a quadratura de Gauss com n = 5.\n",
        "\n",
        "Solução: Primeiramente, definamos $f(x)$:"
      ]
    },
    {
      "cell_type": "code",
      "metadata": {
        "id": "ZjnaKmC1GVLg",
        "colab_type": "code",
        "colab": {}
      },
      "source": [
        "def f(x): return exp(-x**2)\n",
        "a = 1\n",
        "b = 1.5\n",
        "n = 5"
      ],
      "execution_count": 0,
      "outputs": []
    },
    {
      "cell_type": "markdown",
      "metadata": {
        "id": "b2xkSfyHGgx1",
        "colab_type": "text"
      },
      "source": [
        "Logo, a quadratura de Gauss nos fornece:"
      ]
    },
    {
      "cell_type": "code",
      "metadata": {
        "id": "jpITZw7_Ghda",
        "colab_type": "code",
        "colab": {}
      },
      "source": [
        "quadGauss(f(x), a, b, n)"
      ],
      "execution_count": 0,
      "outputs": []
    }
  ]
}