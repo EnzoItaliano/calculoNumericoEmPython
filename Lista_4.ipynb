{
  "nbformat": 4,
  "nbformat_minor": 0,
  "metadata": {
    "colab": {
      "name": "Lista 4.ipynb",
      "provenance": [],
      "authorship_tag": "ABX9TyN5bTyANMEXZZ5W3haWJYiR",
      "include_colab_link": true
    },
    "kernelspec": {
      "name": "python3",
      "display_name": "Python 3"
    }
  },
  "cells": [
    {
      "cell_type": "markdown",
      "metadata": {
        "id": "view-in-github",
        "colab_type": "text"
      },
      "source": [
        "<a href=\"https://colab.research.google.com/github/EnzoItaliano/calculoNumericoEmPython/blob/master/Lista_4.ipynb\" target=\"_parent\"><img src=\"https://colab.research.google.com/assets/colab-badge.svg\" alt=\"Open In Colab\"/></a>"
      ]
    },
    {
      "cell_type": "markdown",
      "metadata": {
        "id": "UT7OMWIcQR2o",
        "colab_type": "text"
      },
      "source": [
        "Universidade Tecnológica Federal do Paraná  \n",
        "Professor: Wellington José Corrêa  \n",
        "Orientando: Enzo Dornelles Italiano  \n",
        "Cálculo Numérico"
      ]
    },
    {
      "cell_type": "markdown",
      "metadata": {
        "id": "0A_Fr9wJQT36",
        "colab_type": "text"
      },
      "source": [
        "Inicialmente precisamos executar uma vez os códigos abaixo"
      ]
    },
    {
      "cell_type": "markdown",
      "metadata": {
        "id": "hWOK_ACJdEgW",
        "colab_type": "text"
      },
      "source": [
        "#Códigos"
      ]
    },
    {
      "cell_type": "code",
      "metadata": {
        "id": "QgmjIRa9QF15",
        "colab_type": "code",
        "colab": {}
      },
      "source": [
        "!pip3 install prettymatrix\n",
        "!pip install mpld3\n",
        "!pip install \"git+https://github.com/javadba/mpld3@display_fix\"\n",
        "import copy\n",
        "import math\n",
        "import mpld3\n",
        "import numpy as np\n",
        "from sympy import *\n",
        "import prettymatrix\n",
        "from mpld3 import plugins\n",
        "import matplotlib.pyplot as plt\n",
        "from prettytable import PrettyTable\n",
        "from numpy.polynomial import Polynomial as P\n",
        "x = symbols('x')\n",
        "def Lagrange(pontos, valor, f):\n",
        "    Pn = 0\n",
        "    print(\"Polinômios coeficientes\")\n",
        "    for i in range(len(pontos)):\n",
        "        mult = 1\n",
        "        multp = 1\n",
        "        div = 1\n",
        "        for j in range(len(pontos)):\n",
        "            if i == j: continue\n",
        "            mult *= P([-pontos[j][0], 1])\n",
        "            multp *= x - pontos[j][0]\n",
        "            div *= pontos[i][0] - pontos[j][0]\n",
        "        print(\"\\n>>>>>>>L[%a]<<<<<<<\" % i)\n",
        "        pprint(multp/div)\n",
        "        Pn = Pn + pontos[i][1] * (mult // div)\n",
        "    print(\"Polinômio interpolador de Lagrange p(x) = \", end=\"\")\n",
        "    poli = list(Pn)\n",
        "    for i in range(len(poli)):\n",
        "        print(abs(round(poli[i],8)),end=\"\")\n",
        "        if i == 0: print(\" \",end=\"\")\n",
        "        elif i == 1: print(\"x \", end=\"\")\n",
        "        else: print(\"x**%o\"%i, end=\" \")\n",
        "        if i != len(poli)-1:\n",
        "            if poli[i+1] >= 0:\n",
        "                print(\"+ \", end=\"\")\n",
        "            else:\n",
        "                print(\"- \", end=\"\")\n",
        "    print(\"\\n\")\n",
        "    print(\"Polinômio interpolador avaliado em x =\",valor,\", é P(\"+str(valor)+\") =\" ,Pn(valor))\n",
        "\n",
        "    if f != 0:\n",
        "        f = diff(f,x,len(poli))\n",
        "        # print(simplify(f))\n",
        "        maior = abs(f.subs(x,pontos[0][0]))\n",
        "        if abs(f.subs(x,pontos[len(pontos)-1][0])) > maior:\n",
        "            maior = abs(f.subs(x,pontos[len(pontos)-1][0]))\n",
        "        mult = 1\n",
        "        for i in range(len(pontos)):\n",
        "            mult *= abs(valor-pontos[i][0])\n",
        "        E = mult * maior / factorial(len(poli))\n",
        "        print(\"\\nLimitante\")\n",
        "        print(\"|E(\"+str(valor)+\")| <= \",E.evalf())\n",
        "\n",
        "def plotL(pontos, xi, xf):\n",
        "    l = []\n",
        "    for i in range(len(pontos)):\n",
        "        multp = 1\n",
        "        div = 1\n",
        "        for j in range(len(pontos)):\n",
        "            if i == j: continue\n",
        "            multp *= x - pontos[j][0]\n",
        "            div *= pontos[i][0] - pontos[j][0]\n",
        "        l.append(multp/div)\n",
        "    return l\n",
        "\n",
        "def graficoLagrange(pontos):\n",
        "    Pn = 0\n",
        "    for i in range(len(pontos)):\n",
        "        mult = 1\n",
        "        div = 1\n",
        "        for j in range(len(pontos)):\n",
        "            if i == j: continue\n",
        "            mult *= P([-pontos[j][0], 1])\n",
        "            div *= pontos[i][0] - pontos[j][0]\n",
        "        Pn = Pn + pontos[i][1] * (mult // div)\n",
        "    return Pn\n",
        "\n",
        "def Newton(pontos, valor, f):\n",
        "    dif = []\n",
        "    for i in range(len(pontos)):\n",
        "        dif.append([])\n",
        "    for i in range(len(pontos)):\n",
        "        dif[0].append(pontos[i][1])\n",
        "    for i in range(len(pontos)-1):\n",
        "        for j in range(len(pontos)-(i+1)):\n",
        "            dif[i+1].append((dif[i][j+1]-dif[i][j])/(pontos[j+i+1][0]-pontos[j][0]))\n",
        "    \n",
        "    Table = PrettyTable()\n",
        "    points=[]\n",
        "    for i in range(len(pontos)):\n",
        "        points.append(pontos[i][0])\n",
        "    Table.add_column(\"xk\", points)\n",
        "    for k in range(len(dif)):\n",
        "        while len(dif[k]) < len(pontos):\n",
        "            dif[k].append(\"-\")\n",
        "        Table.add_column(\"Dif_\"+str(k),dif[k])\n",
        "\n",
        "    print(\"Tabela\")\n",
        "    print(Table)\n",
        "\n",
        "    Pn = dif[0][0]\n",
        "    for i in range(1,len(dif)):\n",
        "        temp = 1\n",
        "        for j in range(i):\n",
        "            temp *= (x-pontos[j][0])\n",
        "        temp *= dif[i][0]\n",
        "        Pn += temp\n",
        "    \n",
        "    print(\"Polinômio interpolador p(x) = \",end=\"\")\n",
        "    print(simplify(Pn))\n",
        "\n",
        "    print(\"Polinômio interpolador avaliado em x = \"+str(valor)+\" é p(\"+str(valor)+\") = \", end=\"\")\n",
        "    print(round(Pn.subs(x,valor),8))\n",
        "\n",
        "    if f != 0:\n",
        "        f = diff(f,x,degree(Pn,x)+1)\n",
        "        # print(simplify(f))\n",
        "        maior = abs(f.subs(x,pontos[0][0]))\n",
        "        if abs(f.subs(x,pontos[len(pontos)-1][0])) > maior:\n",
        "            maior = abs(f.subs(x,pontos[len(pontos)-1][0]))\n",
        "        mult = 1\n",
        "        for i in range(len(pontos)):\n",
        "            mult *= abs(valor-pontos[i][0])\n",
        "        E = mult * maior / factorial(degree(Pn,x)+1)\n",
        "        print(\"\\nLimitante\")\n",
        "        print(\"|E(\"+str(valor)+\")| <= \",E.evalf())\n",
        "\n",
        "def graficoNewton(pontos):\n",
        "    dif = []\n",
        "    for i in range(len(pontos)):\n",
        "        dif.append([])\n",
        "    for i in range(len(pontos)):\n",
        "        dif[0].append(pontos[i][1])\n",
        "    for i in range(len(pontos)-1):\n",
        "        for j in range(len(pontos)-(i+1)):\n",
        "            dif[i+1].append((dif[i][j+1]-dif[i][j])/(pontos[j+i+1][0]-pontos[j][0]))\n",
        "    \n",
        "    Pn = dif[0][0]\n",
        "    for i in range(1,len(dif)):\n",
        "        temp = 1\n",
        "        for j in range(i):\n",
        "            temp *= (x-pontos[j][0])\n",
        "        temp *= dif[i][0]\n",
        "        Pn += temp\n",
        "    return Pn\n",
        "\n",
        "def NewtonGregory(pontos, valor, f):\n",
        "    intervalo = pontos[1][0] - pontos[0][0]\n",
        "    for i in range(1,len(pontos)):\n",
        "        if pontos[i][0] - pontos[i-1][0] != intervalo:\n",
        "            return print(\"Valores de X não são equidistantes\")\n",
        "    \n",
        "    dif = []\n",
        "    for i in range(len(pontos)):\n",
        "        dif.append([])\n",
        "    for i in range(len(pontos)):\n",
        "        dif[0].append(pontos[i][1])\n",
        "    for i in range(len(pontos)-1):\n",
        "        for j in range(len(pontos)-(i+1)):\n",
        "            dif[i+1].append((dif[i][j+1]-dif[i][j]))\n",
        "\n",
        "    Table = PrettyTable()\n",
        "    points=[]\n",
        "    for i in range(len(pontos)):\n",
        "        points.append(pontos[i][0])\n",
        "    Table.add_column(\"xk\", points)\n",
        "    for k in range(len(dif)):\n",
        "        while len(dif[k]) < len(pontos):\n",
        "            dif[k].append(\"-\")\n",
        "        Table.add_column(\"Dif_\"+str(k),dif[k])\n",
        "\n",
        "    print(\"Tabela\")\n",
        "    print(Table)\n",
        "    \n",
        "    Pn = dif[0][0]\n",
        "    for i in range(1,len(dif)):\n",
        "        temp = 1\n",
        "        for j in range(i):\n",
        "            temp *= (x-pontos[j][0])\n",
        "        temp *= (dif[i][0]/(factorial(i)*intervalo**i))\n",
        "        Pn += temp\n",
        "    \n",
        "    print(\"Polinômio interpolador p(x) = \",end=\"\")\n",
        "    print(Pn)\n",
        "\n",
        "    print(\"Polinômio interpolador avaliado em x = \"+str(valor)+\" é p(\"+str(valor)+\") = \", end=\"\")\n",
        "    print(round(Pn.subs(x,valor),8))\n",
        "\n",
        "    if f != 0:\n",
        "        f = diff(f,x,degree(Pn,x)+1)\n",
        "        # print(simplify(f))\n",
        "        maior = abs(f.subs(x,pontos[0][0]))\n",
        "        if abs(f.subs(x,pontos[len(pontos)-1][0])) > maior:\n",
        "            maior = abs(f.subs(x,pontos[len(pontos)-1][0]))\n",
        "        mult = 1\n",
        "        for i in range(len(pontos)):\n",
        "            mult *= abs(valor-pontos[i][0])\n",
        "        E = mult * maior / factorial(degree(Pn,x)+1)\n",
        "        print(\"\\nLimitante\")\n",
        "        print(\"|E(\"+str(valor)+\")| <= \",E.evalf())\n",
        "\n",
        "def graficoNG(pontos):\n",
        "    intervalo = pontos[1][0] - pontos[0][0]\n",
        "    for i in range(1,len(pontos)):\n",
        "        if pontos[i][0] - pontos[i-1][0] != intervalo:\n",
        "            return print(\"Valores de X não são equidistantes\")\n",
        "    \n",
        "    dif = []\n",
        "    for i in range(len(pontos)):\n",
        "        dif.append([])\n",
        "    for i in range(len(pontos)):\n",
        "        dif[0].append(pontos[i][1])\n",
        "    for i in range(len(pontos)-1):\n",
        "        for j in range(len(pontos)-(i+1)):\n",
        "            dif[i+1].append((dif[i][j+1]-dif[i][j]))\n",
        "    \n",
        "    Pn = dif[0][0]\n",
        "    for i in range(1,len(dif)):\n",
        "        temp = 1\n",
        "        for j in range(i):\n",
        "            temp *= (x-pontos[j][0])\n",
        "        temp *= (dif[i][0]/(factorial(i)*intervalo**i))\n",
        "        Pn += temp\n",
        "    return Pn\n",
        "\n",
        "def sistLinear(G, B, ordem):\n",
        "    y = symbols('y:'+str(ordem))\n",
        "    mY = []\n",
        "    for i in range(len(y)):\n",
        "        mY.append(y[i])\n",
        "    D = np.linalg.det(G)\n",
        "    tempG = G.copy()\n",
        "    for j in range(ordem):\n",
        "        for i in range(ordem):\n",
        "            tempG[i][j] = B[i]\n",
        "        tempD = np.linalg.det(tempG)\n",
        "        tempG = G.copy()\n",
        "        mY[j] = round(tempD/D, 8)\n",
        "    mTemp = []\n",
        "    for i in range(len(mY)):\n",
        "        mTemp.append([mY[i]])\n",
        "    mY = mTemp.copy()\n",
        "    mY = np.asarray(mY)\n",
        "    return mY\n",
        "\n",
        "def spline(pontos, valor):\n",
        "    h = []\n",
        "    for i in range(1,len(pontos)):\n",
        "        h.append(pontos[i][0] - pontos[i-1][0])\n",
        "    M = np.zeros((len(h)-1,len(h)-1))\n",
        "    for i in range(len(h)-1):\n",
        "        if i == 0:\n",
        "            M[i][i]   = 2*(h[i]+h[i+1])\n",
        "            M[i][i+1] = h[i+1]\n",
        "        elif i == len(h)-2:\n",
        "            M[i][i]   = 2*(h[i]+h[i+1])\n",
        "            M[i][i-1] = h[i]\n",
        "        else:\n",
        "            M[i][i]   = 2*(h[i]+h[i+1])\n",
        "            M[i][i-1] = h[i]\n",
        "            M[i][i+1] = h[i+1]\n",
        "\n",
        "    print(prettymatrix.matrix_to_string(M, name='Matriz = '))\n",
        "    B = np.zeros((len(h)-1,1))\n",
        "    for i in range(1,len(h)):\n",
        "        B[i-1][0] = 6*((pontos[i+1][1]-pontos[i][1])/h[i]) - 6*((pontos[i][1]-pontos[i-1][1])/h[i-1])\n",
        "\n",
        "    print(prettymatrix.matrix_to_string(B, name='B = '))\n",
        "    mu = sistLinear(M, B, len(h)-1)\n",
        "    print(\"Spline natural: \\u03BC0 = 0, \\u03BC\"+str(len(h))+\" = 0\\n\")\n",
        "    print(\"Resolvendo o sistema linear M*Y=B, temos:\")\n",
        "    print('\\u03BC1 = ', mu[0][0])\n",
        "    print('\\u03BC2 = ', mu[1][0])\n",
        "\n",
        "    alpha = np.zeros(len(h))\n",
        "    beta  = np.zeros(len(h))\n",
        "    gamma = np.zeros(len(h))\n",
        "    for i in range(len(h)):\n",
        "        if i == 0:\n",
        "            alpha[i] = ((pontos[i+1][1]-pontos[i][1])/h[i]) - ((mu[i][0]/6)*h[i]) - ((0/3)*h[i])\n",
        "            beta[i] = 0/2\n",
        "            gamma[i] = (mu[i][0]-0)/(6*h[i])\n",
        "        elif i == len(mu):\n",
        "            alpha[i] = ((pontos[i+1][1]-pontos[i][1])/h[i]) - ((0/6)*h[i]) - ((mu[i-1]/3)*h[i])\n",
        "            beta[i] = mu[i-1][0]/2\n",
        "            gamma[i] = (0-mu[i-1][0])/(6*h[i])\n",
        "        else:\n",
        "            alpha[i] = ((pontos[i+1][1]-pontos[i][1])/h[i]) - ((mu[i][0]/6)*h[i]) - ((mu[i-1]/3)*h[i])\n",
        "            beta[i] = mu[i-1][0]/2\n",
        "            gamma[i] = (mu[i][0]-mu[i-1][0])/(6*h[i])\n",
        "    \n",
        "    i = np.linspace(0,len(alpha)-1,len(alpha))\n",
        "    Table = PrettyTable()\n",
        "    Table.add_column(\"i\",i)\n",
        "    Table.add_column(\"\\u03B1\",alpha)\n",
        "    Table.add_column(\"\\u03B2\",beta)\n",
        "    Table.add_column(\"\\u03B3\",gamma)\n",
        "    print(\"\\nCoeficientes dos polinomios da spline:\")\n",
        "    print(Table)\n",
        "\n",
        "    S = []\n",
        "    for i in range(len(alpha)):\n",
        "        S.append(pontos[i][1] + (alpha[i]*(x-pontos[i][0])) + (beta[i]*(x-pontos[i][0])**2) + (gamma[i]*(x-pontos[i][0])**3))\n",
        "    \n",
        "    print(\"\\nSpline cúbica natural:\\n\")\n",
        "    for i in range(len(S)):\n",
        "        print(\"P\"+str(i)+\"(x) = \"+str(simplify(S[i]))+\" , Intervalo=[\"+str(pontos[i][0])+\",\"+str(pontos[i+1][0])+\"]\")\n",
        "    print(\"\")\n",
        "\n",
        "    c = 0\n",
        "    for i in range(1,len(pontos)):\n",
        "        intervalo = [pontos[i-1][0],pontos[i][0]]\n",
        "        if valor >= intervalo[0] and valor < intervalo[1]:\n",
        "            c = copy.copy(i)\n",
        "            break\n",
        "    print(\"Queremos encontrar o valor para f(\"+str(valor)+\") então devemos usar P\"+str(c-1)+\" pois x = \"+str(valor)+\" está contido no intervalo = \",intervalo)\n",
        "    print(\"\\nLogo, a função em x = \"+str(valor)+\" é aproximadamente: \",S[1].subs(x,valor))\n",
        "\n",
        "def graficoSpline(pontos, valor):\n",
        "    h = []\n",
        "    for i in range(1,len(pontos)):\n",
        "        h.append(pontos[i][0] - pontos[i-1][0])\n",
        "    # print(len(h))\n",
        "    M = np.zeros((len(h)-1,len(h)-1))\n",
        "    for i in range(len(h)-1):\n",
        "        if i == 0:\n",
        "            M[i][i]   = 2*(h[i]+h[i+1])\n",
        "            M[i][i+1] = h[i+1]\n",
        "        elif i == len(h)-2:\n",
        "            M[i][i]   = 2*(h[i]+h[i+1])\n",
        "            M[i][i-1] = h[i]\n",
        "        else:\n",
        "            M[i][i]   = 2*(h[i]+h[i+1])\n",
        "            M[i][i-1] = h[i]\n",
        "            M[i][i+1] = h[i+1]\n",
        "\n",
        "    B = np.zeros((len(h)-1,1))\n",
        "    for i in range(1,len(h)):\n",
        "        B[i-1][0] = 6*((pontos[i+1][1]-pontos[i][1])/h[i]) - 6*((pontos[i][1]-pontos[i-1][1])/h[i-1])\n",
        "\n",
        "    mu = sistLinear(M, B, len(h)-1)\n",
        "\n",
        "    alpha = np.zeros(len(h))\n",
        "    beta  = np.zeros(len(h))\n",
        "    gamma = np.zeros(len(h))\n",
        "    for i in range(len(h)):\n",
        "        if i == 0:\n",
        "            alpha[i] = ((pontos[i+1][1]-pontos[i][1])/h[i]) - ((mu[i][0]/6)*h[i]) - ((0/3)*h[i])\n",
        "            beta[i] = 0/2\n",
        "            gamma[i] = (mu[i][0]-0)/(6*h[i])\n",
        "        elif i == len(mu):\n",
        "            alpha[i] = ((pontos[i+1][1]-pontos[i][1])/h[i]) - ((0/6)*h[i]) - ((mu[i-1]/3)*h[i])\n",
        "            beta[i] = mu[i-1][0]/2\n",
        "            gamma[i] = (0-mu[i-1][0])/(6*h[i])\n",
        "        else:\n",
        "            alpha[i] = ((pontos[i+1][1]-pontos[i][1])/h[i]) - ((mu[i][0]/6)*h[i]) - ((mu[i-1]/3)*h[i])\n",
        "            beta[i] = mu[i-1][0]/2\n",
        "            gamma[i] = (mu[i][0]-mu[i-1][0])/(6*h[i])\n",
        "\n",
        "    S = []\n",
        "    for i in range(len(alpha)):\n",
        "        # print(pontos[i][1] +(alpha[i]*(x-pontos[i][0])))\n",
        "        S.append(pontos[i][1] + (alpha[i]*(x-pontos[i][0])) + (beta[i]*(x-pontos[i][0])**2) + (gamma[i]*(x-pontos[i][0])**3))\n",
        "    \n",
        "    c = 0\n",
        "    for i in range(1,len(pontos)):\n",
        "        intervalo = [pontos[i-1][0],pontos[i][0]]\n",
        "        if valor >= intervalo[0] and valor < intervalo[1]:\n",
        "            c = copy.copy(i)\n",
        "            break\n",
        "\n",
        "    Pn = S\n",
        "    return Pn,c"
      ],
      "execution_count": 0,
      "outputs": []
    },
    {
      "cell_type": "markdown",
      "metadata": {
        "id": "VwSFtFUIeaF4",
        "colab_type": "text"
      },
      "source": [
        "#Interpolação"
      ]
    },
    {
      "cell_type": "markdown",
      "metadata": {
        "id": "605xghvWp4ki",
        "colab_type": "text"
      },
      "source": [
        "## 1. Polinônimo de Lagrange"
      ]
    },
    {
      "cell_type": "markdown",
      "metadata": {
        "id": "ziIXgK3Vef24",
        "colab_type": "text"
      },
      "source": [
        "O procedimento aqui é Lagrange(pontos,valor,f(x))\n",
        "\n",
        "Onde pontos é a tabela descrita na forma de matriz, valor é o ponto a ser avaliado e $f(x)$ é a função na qual é possível estimar \n",
        "o erro. Quando se deseja apenas obter o polinômio interpolador de Lagrange, façamos $f(x)=0$.\n",
        "\n",
        "Consideremos dois casos:\n",
        "\n",
        "(a) Quando a função $f(x)$ é desconhecida. Neste caso, tomamos f=0 no algoritmo Lagrange(pontos,valor,f(x)).\n",
        "\n",
        "Exemplo: Conhecendo-se a seguinte tabela\n",
        "\n",
        "| x    | -1 | 0 | 3 |\n",
        "|------|----|---|---|\n",
        "| f(x) | 15 | 8 | 1 |\n",
        "\n",
        "Determine o polinômio interpolador na forma de Lagrange e obtenha uma aproximação para $f(1)$.\n",
        "\n",
        "Solução: Como a função $f$ é desconhecida, segundo a instrução acima, consideremos $f=0$ e valor = 1:"
      ]
    },
    {
      "cell_type": "code",
      "metadata": {
        "id": "4An_iMIZf63g",
        "colab_type": "code",
        "colab": {}
      },
      "source": [
        "def f(x): return 0\n",
        "valor = 1"
      ],
      "execution_count": 0,
      "outputs": []
    },
    {
      "cell_type": "markdown",
      "metadata": {
        "id": "w4i2F-xlf_5y",
        "colab_type": "text"
      },
      "source": [
        "Em seguida, consideremos a tabela dada na forma de matriz:"
      ]
    },
    {
      "cell_type": "code",
      "metadata": {
        "id": "Cm9Oae-XgCt4",
        "colab_type": "code",
        "colab": {}
      },
      "source": [
        "pontos = [[-1,15],[0,8],[3,-1]]"
      ],
      "execution_count": 0,
      "outputs": []
    },
    {
      "cell_type": "markdown",
      "metadata": {
        "id": "OvzcZKR5gN1W",
        "colab_type": "text"
      },
      "source": [
        "Logo, basta usar o comando Lagrange(dados,valor,f(x)):"
      ]
    },
    {
      "cell_type": "code",
      "metadata": {
        "id": "eINe6nSogU91",
        "colab_type": "code",
        "colab": {}
      },
      "source": [
        "Lagrange(pontos,valor,f(x))"
      ],
      "execution_count": 0,
      "outputs": []
    },
    {
      "cell_type": "markdown",
      "metadata": {
        "id": "TRtulaoehNDB",
        "colab_type": "text"
      },
      "source": [
        "Sabemos que os polinômios coeficientes tem a propriedade que $L_i(x_i)=1$ e $L_i(x_j)=0$ para\n",
        "$i\\neq j$. Podemos ver isso graficamente pelo comando\n",
        "plotL(pontos, xi, xf), onde $x_i$ é o x inicial do gráfico e $x_f$ é o final."
      ]
    },
    {
      "cell_type": "code",
      "metadata": {
        "id": "VmzIdVmih0j8",
        "colab_type": "code",
        "colab": {}
      },
      "source": [
        "xi = -1.5\n",
        "xf = 3.5\n",
        "result = plotL(pontos, xi, xf)\n",
        "\n",
        "fig, ax = plt.subplots()\n",
        "\n",
        "z = np.arange(xi,xf,0.001)\n",
        "    \n",
        "y = np.zeros((len(result),len(z)))\n",
        "for i in range(len(result)):\n",
        "    for j in range(len(z)):\n",
        "        y[i][j] = (result[i].subs(x,z[j]))\n",
        "    ax.plot(z,y[i], label=str(result[i]))\n",
        "\n",
        "ax.legend()\n",
        "ax.grid()\n",
        "plugins.connect(fig, plugins.MousePosition(fontsize=14))\n",
        "\n",
        "mpld3.display()"
      ],
      "execution_count": 0,
      "outputs": []
    },
    {
      "cell_type": "markdown",
      "metadata": {
        "id": "gKvucI1-kEW9",
        "colab_type": "text"
      },
      "source": [
        "Para plotar o gráfico do polinômio de Lagrange, basta usar o seguinte comando:"
      ]
    },
    {
      "cell_type": "code",
      "metadata": {
        "id": "ER0zcGMAkF1N",
        "colab_type": "code",
        "colab": {}
      },
      "source": [
        "result = graficoLagrange(pontos)\n",
        "xi = -4\n",
        "xf = 4\n",
        "fig, ax = plt.subplots()\n",
        "\n",
        "z = np.arange(xi,xf,0.001)\n",
        "y = []\n",
        "for i in range(len(z)):\n",
        "    y.append(result(z[i]))\n",
        "\n",
        "a = []\n",
        "w = []\n",
        "for i in range(len(pontos)):\n",
        "    a.append(pontos[i][0])\n",
        "    w.append(pontos[i][1])\n",
        "\n",
        "ax.plot(z,y, label='Polinômio Interpolador P(x)')\n",
        "ax.plot(a,w, \"r*\", markersize=6, label=\"Pontos da tabela\")\n",
        "ax.plot(valor,result(valor), \"g*\", markersize=6, label=\"Estimativa\")\n",
        "ax.legend()\n",
        "ax.grid()\n",
        "plugins.connect(fig, plugins.MousePosition(fontsize=14))\n",
        "\n",
        "mpld3.display()"
      ],
      "execution_count": 0,
      "outputs": []
    },
    {
      "cell_type": "markdown",
      "metadata": {
        "id": "5JRTxuDulgPM",
        "colab_type": "text"
      },
      "source": [
        "(b) Caso em que a $f(x)$ é apresentada. Neste caso, é possível avaliar o erro cometido na interpolação."
      ]
    },
    {
      "cell_type": "markdown",
      "metadata": {
        "id": "5EKpj4tXlvGG",
        "colab_type": "text"
      },
      "source": [
        "Exemplo: Considere a função $f(x)=\\frac{3+x}{1+x}$ definida nos pontos conforme a tabela:"
      ]
    },
    {
      "cell_type": "code",
      "metadata": {
        "id": "tHucL_-fl2WF",
        "colab_type": "code",
        "colab": {}
      },
      "source": [
        "pontos = [[0.1,2.82],[0.2,2.67],[0.4,2.43]]"
      ],
      "execution_count": 0,
      "outputs": []
    },
    {
      "cell_type": "markdown",
      "metadata": {
        "id": "Lila8yWRl7uF",
        "colab_type": "text"
      },
      "source": [
        "Determine o polinomio interpolador de $f(x)$, usando a fórmula de Lagrange. Em seguida, avalie $f(0.25)$ e um limitante superior para o erro.\n",
        "\n",
        "Solução: Definamos a função $f$ e o valor = 0.25:"
      ]
    },
    {
      "cell_type": "code",
      "metadata": {
        "id": "fbqv-gr_mFMI",
        "colab_type": "code",
        "colab": {}
      },
      "source": [
        "def f(x): return (3+x)/(1+x)\n",
        "valor = 0.25"
      ],
      "execution_count": 0,
      "outputs": []
    },
    {
      "cell_type": "markdown",
      "metadata": {
        "id": "fqUZuH1_mSD2",
        "colab_type": "text"
      },
      "source": [
        "Logo, basta usar o comando Lagrange(pontos,valor,f(x)):"
      ]
    },
    {
      "cell_type": "code",
      "metadata": {
        "id": "CK-v-fntmXkF",
        "colab_type": "code",
        "colab": {}
      },
      "source": [
        "Lagrange(pontos, valor, f(x))"
      ],
      "execution_count": 0,
      "outputs": []
    },
    {
      "cell_type": "markdown",
      "metadata": {
        "id": "CfQ2cRalnl9f",
        "colab_type": "text"
      },
      "source": [
        "Sabemos que os polinômios coeficientes tem a propriedade que $L_i(x_i)=1$ e $L_i(x_j)=0$ para $i\\neq j$. Podemos ver isso graficamente pelo comando plotL(pontos)"
      ]
    },
    {
      "cell_type": "code",
      "metadata": {
        "id": "xzQsis1dnw_4",
        "colab_type": "code",
        "colab": {}
      },
      "source": [
        "xi = -0.4\n",
        "xf = 0.9\n",
        "result = plotL(pontos, xi, xf)\n",
        "\n",
        "fig, ax = plt.subplots()\n",
        "\n",
        "z = np.arange(xi,xf,0.001)\n",
        "    \n",
        "y = np.zeros((len(result),len(z)))\n",
        "for i in range(len(result)):\n",
        "    for j in range(len(z)):\n",
        "        y[i][j] = (result[i].subs(x,z[j]))\n",
        "    ax.plot(z,y[i], label=str(result[i]))\n",
        "\n",
        "ax.legend()\n",
        "ax.grid()\n",
        "plugins.connect(fig, plugins.MousePosition(fontsize=14))\n",
        "\n",
        "mpld3.display()"
      ],
      "execution_count": 0,
      "outputs": []
    },
    {
      "cell_type": "markdown",
      "metadata": {
        "id": "QLihP20poTHc",
        "colab_type": "text"
      },
      "source": [
        "Para plotar o gráfico do polinômio de Lagrange, basta usar o seguinte comando:"
      ]
    },
    {
      "cell_type": "code",
      "metadata": {
        "id": "IsqLWIf7oUq0",
        "colab_type": "code",
        "colab": {}
      },
      "source": [
        "result = graficoLagrange(pontos)\n",
        "xi = -1\n",
        "xf = 1.5\n",
        "fig, ax = plt.subplots()\n",
        "\n",
        "z = np.arange(xi,xf,0.001)\n",
        "y = []\n",
        "for i in range(len(z)):\n",
        "    y.append(result(z[i]))\n",
        "\n",
        "a = []\n",
        "w = []\n",
        "for i in range(len(pontos)):\n",
        "    a.append(pontos[i][0])\n",
        "    w.append(pontos[i][1])\n",
        "\n",
        "ax.plot(z,y, label='Polinômio Interpolador P(x)')\n",
        "ax.plot(a,w, \"r*\", markersize=6, label=\"Pontos da tabela\")\n",
        "ax.plot(valor,result(valor), \"g*\", markersize=6, label=\"Estimativa\")\n",
        "ax.legend()\n",
        "ax.grid()\n",
        "plugins.connect(fig, plugins.MousePosition(fontsize=14))\n",
        "\n",
        "mpld3.display()"
      ],
      "execution_count": 0,
      "outputs": []
    },
    {
      "cell_type": "markdown",
      "metadata": {
        "id": "teBBCbccoisL",
        "colab_type": "text"
      },
      "source": [
        "Como neste exemplo, $f(x)$ é dada, façamos os gráfico de $f(x)$ e $p(x)$ empregando o comando:"
      ]
    },
    {
      "cell_type": "code",
      "metadata": {
        "id": "giimslewoomC",
        "colab_type": "code",
        "colab": {}
      },
      "source": [
        "result = graficoLagrange(pontos)\n",
        "xi = -0.5\n",
        "xf = 1.5\n",
        "fig, ax = plt.subplots()\n",
        "\n",
        "z = np.arange(xi,xf,0.001)\n",
        "y = []\n",
        "for i in range(len(z)):\n",
        "    y.append(result(z[i]))\n",
        "\n",
        "a = []\n",
        "for i in range(len(z)):\n",
        "    a.append(f(x).subs(x,z[i]))\n",
        "\n",
        "b = []\n",
        "w = []\n",
        "for i in range(len(pontos)):\n",
        "    b.append(pontos[i][0])\n",
        "    w.append(pontos[i][1])\n",
        "\n",
        "ax.plot(b,w, \"r*\", markersize=6, label=\"Pontos da tabela\")\n",
        "ax.plot(z,y, label='Polinômio Interpolador P(x)')\n",
        "ax.plot(z,a, label=\"Função f(x)\")\n",
        "ax.plot(valor,result(valor), \"g*\", markersize=6, label=\"Estimativa\")\n",
        "ax.plot(valor,f(x).subs(x,valor), \"yo\", label=\"Valor exato\")\n",
        "ax.legend()\n",
        "ax.grid()\n",
        "plugins.connect(fig, plugins.MousePosition(fontsize=14))\n",
        "\n",
        "mpld3.display()"
      ],
      "execution_count": 0,
      "outputs": []
    },
    {
      "cell_type": "markdown",
      "metadata": {
        "id": "klFdlsFBpzk9",
        "colab_type": "text"
      },
      "source": [
        "## 2. Interpolação: Diferenças Divididas: Fórmula de Newton"
      ]
    },
    {
      "cell_type": "markdown",
      "metadata": {
        "id": "jxm09qNgqURx",
        "colab_type": "text"
      },
      "source": [
        "O procedimento aqui é Newton(pontos,valor,f(x))\n",
        "\n",
        "Determine o polinômio interpolador usando a fórmula de Newton. Além disso, avalie $f(0.7)$ onde $f(x)=e^x+sin(x)$ e exiba um limitante superior para o erro. Caso apenas deseje encontrar o polinômio interpolador, considere $f(x)=0$."
      ]
    },
    {
      "cell_type": "code",
      "metadata": {
        "id": "cs53tnnvqzZ9",
        "colab_type": "code",
        "colab": {}
      },
      "source": [
        "pontos = [[0,1],[.5,2.12],[1,3.55]]"
      ],
      "execution_count": 0,
      "outputs": []
    },
    {
      "cell_type": "markdown",
      "metadata": {
        "id": "wrIXEHG2q0gW",
        "colab_type": "text"
      },
      "source": [
        "Solução: Inicialmente, definamos $f(x)$ e valor:"
      ]
    },
    {
      "cell_type": "code",
      "metadata": {
        "id": "rpxKVdMJq367",
        "colab_type": "code",
        "colab": {}
      },
      "source": [
        "def f(x): return exp(x) + sin(x)\n",
        "valor = 0.7"
      ],
      "execution_count": 0,
      "outputs": []
    },
    {
      "cell_type": "markdown",
      "metadata": {
        "id": "iBh8OnverAPQ",
        "colab_type": "text"
      },
      "source": [
        "Logo,"
      ]
    },
    {
      "cell_type": "code",
      "metadata": {
        "id": "bX2OA2VvrBOs",
        "colab_type": "code",
        "colab": {}
      },
      "source": [
        "Newton(pontos,valor,f(x))"
      ],
      "execution_count": 0,
      "outputs": []
    },
    {
      "cell_type": "markdown",
      "metadata": {
        "id": "soMQE53nsTwk",
        "colab_type": "text"
      },
      "source": [
        "Para plotar o gráfico do polinômio interpolador, basta usar o seguinte comando:"
      ]
    },
    {
      "cell_type": "code",
      "metadata": {
        "id": "GwWtr-IgsYNq",
        "colab_type": "code",
        "colab": {}
      },
      "source": [
        "result = graficoNewton(pontos)\n",
        "xi = -1\n",
        "xf = 2\n",
        "fig, ax = plt.subplots()\n",
        "\n",
        "z = np.arange(xi,xf,0.001)\n",
        "y = []\n",
        "for i in range(len(z)):\n",
        "    y.append(result.subs(x,z[i]))\n",
        "\n",
        "a = []\n",
        "w = []\n",
        "for i in range(len(pontos)):\n",
        "    a.append(pontos[i][0])\n",
        "    w.append(pontos[i][1])\n",
        "\n",
        "ax.plot(z,y, label='Polinômio Interpolador P(x)')\n",
        "ax.plot(a,w, \"r*\", markersize=6, label=\"Pontos da tabela\")\n",
        "ax.plot(valor,result.subs(x,valor), \"g*\", markersize=6, label=\"Estimativa\")\n",
        "ax.legend()\n",
        "ax.grid()\n",
        "plugins.connect(fig, plugins.MousePosition(fontsize=14))\n",
        "\n",
        "mpld3.display()"
      ],
      "execution_count": 0,
      "outputs": []
    },
    {
      "cell_type": "markdown",
      "metadata": {
        "id": "mbFOOogVtZto",
        "colab_type": "text"
      },
      "source": [
        "Para plotar o gráfico de $f(x)$ e $p(x)$, basta usar o comando:"
      ]
    },
    {
      "cell_type": "code",
      "metadata": {
        "id": "7WC1CbwAtZTG",
        "colab_type": "code",
        "colab": {}
      },
      "source": [
        "result = graficoNewton(pontos)\n",
        "xi = -1\n",
        "xf = 2\n",
        "fig, ax = plt.subplots()\n",
        "\n",
        "z = np.arange(xi,xf,0.001)\n",
        "y = []\n",
        "for i in range(len(z)):\n",
        "    y.append(result.subs(x,z[i]))\n",
        "\n",
        "a = []\n",
        "for i in range(len(z)):\n",
        "    a.append(f(x).subs(x,z[i]))\n",
        "\n",
        "b = []\n",
        "w = []\n",
        "for i in range(len(pontos)):\n",
        "    b.append(pontos[i][0])\n",
        "    w.append(pontos[i][1])\n",
        "\n",
        "ax.plot(b,w, \"r*\", markersize=6, label=\"Pontos da tabela\")\n",
        "ax.plot(z,y, label='Polinômio Interpolador P(x)')\n",
        "ax.plot(z,a, label=\"Função f(x)\")\n",
        "ax.plot(valor,f(x).subs(x,valor), \"yo\", markersize=7,label=\"Valor exato\")\n",
        "ax.plot(valor,result.subs(x,valor), \"g*\", markersize=6, label=\"Estimativa\")\n",
        "ax.legend()\n",
        "ax.grid()\n",
        "plugins.connect(fig, plugins.MousePosition(fontsize=14))\n",
        "\n",
        "mpld3.display()"
      ],
      "execution_count": 0,
      "outputs": []
    },
    {
      "cell_type": "markdown",
      "metadata": {
        "id": "22sw9rp3uaPs",
        "colab_type": "text"
      },
      "source": [
        "## 3. Polinômio de Newton-Grégory"
      ]
    },
    {
      "cell_type": "markdown",
      "metadata": {
        "id": "kuRhjI9YuiuK",
        "colab_type": "text"
      },
      "source": [
        "O procedimento aqui é NewtonGregory(pontos,valor,f(x))\n",
        "\n",
        "Exemplo: Considere a função $f(x)=\\frac{1}{1+x}$ tabelada como segue"
      ]
    },
    {
      "cell_type": "code",
      "metadata": {
        "id": "X3LDIETIwboG",
        "colab_type": "code",
        "colab": {}
      },
      "source": [
        "pontos = [[0,1],[1,.5],[2,2/3]]"
      ],
      "execution_count": 0,
      "outputs": []
    },
    {
      "cell_type": "markdown",
      "metadata": {
        "id": "ncPC8j0FwdOW",
        "colab_type": "text"
      },
      "source": [
        "Determine o polinômio interpolador pela fórmula de Newton-Gregory, avalie $f(1,3)$ e exiba um limitante superior para o erro.\n",
        "\n",
        "Solução: Inicialmente, definamos a função $f(x)$:"
      ]
    },
    {
      "cell_type": "code",
      "metadata": {
        "id": "Ya2ZaLOYwp6E",
        "colab_type": "code",
        "colab": {}
      },
      "source": [
        "def f(x): return x/(1+x)\n",
        "valor = 1.3"
      ],
      "execution_count": 0,
      "outputs": []
    },
    {
      "cell_type": "code",
      "metadata": {
        "id": "6ramw_VExAPY",
        "colab_type": "code",
        "colab": {}
      },
      "source": [
        "NewtonGregory(pontos, valor, f(x))"
      ],
      "execution_count": 0,
      "outputs": []
    },
    {
      "cell_type": "markdown",
      "metadata": {
        "id": "uwm7IvkzxgWU",
        "colab_type": "text"
      },
      "source": [
        "Para plotar o gráfico do polinômio interpolador, basta usar o seguinte comando:"
      ]
    },
    {
      "cell_type": "code",
      "metadata": {
        "id": "DsXRMD6rxiBh",
        "colab_type": "code",
        "colab": {}
      },
      "source": [
        "result = graficoNG(pontos)\n",
        "xi = -1\n",
        "xf = 3\n",
        "fig, ax = plt.subplots()\n",
        "\n",
        "z = np.arange(xi,xf,0.001)\n",
        "y = []\n",
        "for i in range(len(z)):\n",
        "    y.append(result.subs(x,z[i]))\n",
        "\n",
        "a = []\n",
        "w = []\n",
        "for i in range(len(pontos)):\n",
        "    a.append(pontos[i][0])\n",
        "    w.append(pontos[i][1])\n",
        "\n",
        "ax.plot(z,y, label='Polinômio Interpolador P(x)')\n",
        "ax.plot(a,w, \"r*\", markersize=6, label=\"Pontos da tabela\")\n",
        "ax.plot(valor,result.subs(x,valor), \"g*\", markersize=6, label=\"Estimativa\")\n",
        "ax.legend()\n",
        "ax.grid()\n",
        "plugins.connect(fig, plugins.MousePosition(fontsize=14))\n",
        "\n",
        "mpld3.display()"
      ],
      "execution_count": 0,
      "outputs": []
    },
    {
      "cell_type": "markdown",
      "metadata": {
        "id": "dEY_YEC1yHHB",
        "colab_type": "text"
      },
      "source": [
        "Finalmente, plotamos o gráfico de $f(x)$ e $p(x)$:"
      ]
    },
    {
      "cell_type": "code",
      "metadata": {
        "id": "Y1-IQBgoyJwr",
        "colab_type": "code",
        "colab": {}
      },
      "source": [
        "result = graficoNG(pontos)\n",
        "xi = -0.4\n",
        "xf = 3\n",
        "fig, ax = plt.subplots()\n",
        "\n",
        "z = np.arange(xi,xf,0.001)\n",
        "y = []\n",
        "for i in range(len(z)):\n",
        "    y.append(result.subs(x,z[i]))\n",
        "\n",
        "a = []\n",
        "for i in range(len(z)):\n",
        "    a.append(f(x).subs(x,z[i]))\n",
        "\n",
        "b = []\n",
        "w = []\n",
        "for i in range(len(pontos)):\n",
        "    b.append(pontos[i][0])\n",
        "    w.append(pontos[i][1])\n",
        "\n",
        "ax.plot(b,w, \"r*\", markersize=6, label=\"Pontos da tabela\")\n",
        "ax.plot(z,y, label='Polinômio Interpolador P(x)')\n",
        "ax.plot(z,a, label=\"Função f(x)\")\n",
        "ax.plot(valor,f(x).subs(x,valor), \"yo\", markersize=7,label=\"Valor exato\")\n",
        "ax.plot(valor,result.subs(x,valor), \"g*\", markersize=6, label=\"Estimativa\")\n",
        "ax.legend()\n",
        "ax.grid()\n",
        "plugins.connect(fig, plugins.MousePosition(fontsize=14))\n",
        "\n",
        "mpld3.display()"
      ],
      "execution_count": 0,
      "outputs": []
    },
    {
      "cell_type": "markdown",
      "metadata": {
        "id": "xUT2uBVJym7D",
        "colab_type": "text"
      },
      "source": [
        "## 4. Splines"
      ]
    },
    {
      "cell_type": "markdown",
      "metadata": {
        "id": "LDSkqJdbyqKC",
        "colab_type": "text"
      },
      "source": [
        "Usaremos o comando spline(pontos,valor), que nos dará além da spline, o sistema linear e todos os coeficientes necessários para a obtenção da spline.\n",
        "\n",
        "O procedimento spline_grafico(pontos,valor) fornece a spline avaliada em x = valor e exibe o gráfico da spline no intervalo $[a,b]$.\n",
        "\n",
        "Exemplo: Ajuste os dados da tabela abaixo com uma spline cúbica natural."
      ]
    },
    {
      "cell_type": "code",
      "metadata": {
        "id": "AjwEYPtEzJEj",
        "colab_type": "code",
        "colab": {}
      },
      "source": [
        "pontos = [[3,2.5],[4.5,1],[7,2.5],[9,.5]]"
      ],
      "execution_count": 0,
      "outputs": []
    },
    {
      "cell_type": "markdown",
      "metadata": {
        "id": "H1J6eKvjzMon",
        "colab_type": "text"
      },
      "source": [
        "Calcule a função em x = 5.\n",
        "\n",
        "Solução: De fato, "
      ]
    },
    {
      "cell_type": "code",
      "metadata": {
        "id": "5Pguokhf1IoQ",
        "colab_type": "code",
        "colab": {}
      },
      "source": [
        "valor = 5"
      ],
      "execution_count": 0,
      "outputs": []
    },
    {
      "cell_type": "code",
      "metadata": {
        "id": "zGvE86CizQMw",
        "colab_type": "code",
        "colab": {}
      },
      "source": [
        "spline(pontos,valor)"
      ],
      "execution_count": 0,
      "outputs": []
    },
    {
      "cell_type": "markdown",
      "metadata": {
        "id": "1zeEQ6AB0cVU",
        "colab_type": "text"
      },
      "source": [
        "E o gráfico de p(x) é:"
      ]
    },
    {
      "cell_type": "code",
      "metadata": {
        "id": "D3h7H8Ge0d2q",
        "colab_type": "code",
        "colab": {}
      },
      "source": [
        "result,c = graficoSpline(pontos, valor)\n",
        "xi = -1\n",
        "xf = 3\n",
        "fig, ax = plt.subplots()\n",
        "\n",
        "for i in range(len(pontos)-1):\n",
        "    z = np.arange(pontos[i][0],pontos[i+1][0],0.001)\n",
        "    y = []\n",
        "    for j in range(len(z)):\n",
        "        y.append(result[i].subs(x,z[j]))\n",
        "    ax.plot(z,y, label='Polinômio Interpolador P'+str(i)+'(x)')\n",
        "\n",
        "a = []\n",
        "w = []\n",
        "for i in range(len(pontos)):\n",
        "    a.append(pontos[i][0])\n",
        "    w.append(pontos[i][1])\n",
        "\n",
        "ax.plot(a,w, \"r*\", markersize=6, label=\"Pontos da tabela\")\n",
        "ax.plot(valor,result[c-1].subs(x,valor), \"g*\", markersize=6, label=\"Estimativa\")\n",
        "ax.legend()\n",
        "ax.grid()\n",
        "plugins.connect(fig, plugins.MousePosition(fontsize=14))\n",
        "\n",
        "mpld3.display()"
      ],
      "execution_count": 0,
      "outputs": []
    }
  ]
}