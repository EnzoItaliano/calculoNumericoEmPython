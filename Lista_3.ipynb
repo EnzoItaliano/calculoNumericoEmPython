{
  "nbformat": 4,
  "nbformat_minor": 0,
  "metadata": {
    "colab": {
      "name": "Lista 3.ipynb",
      "provenance": [],
      "collapsed_sections": [],
      "authorship_tag": "ABX9TyOQfV9azgCGgH5QXA1dmDmv",
      "include_colab_link": true
    },
    "kernelspec": {
      "name": "python3",
      "display_name": "Python 3"
    }
  },
  "cells": [
    {
      "cell_type": "markdown",
      "metadata": {
        "id": "view-in-github",
        "colab_type": "text"
      },
      "source": [
        "<a href=\"https://colab.research.google.com/github/EnzoItaliano/calculoNumericoEmPython/blob/master/Lista_3.ipynb\" target=\"_parent\"><img src=\"https://colab.research.google.com/assets/colab-badge.svg\" alt=\"Open In Colab\"/></a>"
      ]
    },
    {
      "cell_type": "markdown",
      "metadata": {
        "id": "HHA2Ty2fTbDj",
        "colab_type": "text"
      },
      "source": [
        "Universidade Tecnológica Federal do Paraná  \n",
        "Professor: Wellington José Corrêa  \n",
        "Orientando: Enzo Dornelles Italiano  \n",
        "Cálculo Numérico"
      ]
    },
    {
      "cell_type": "markdown",
      "metadata": {
        "id": "P_vkAJ1TTvHV",
        "colab_type": "text"
      },
      "source": [
        "# Solução de Sistemas Lineares"
      ]
    },
    {
      "cell_type": "markdown",
      "metadata": {
        "id": "zcrrIfzPuDTH",
        "colab_type": "text"
      },
      "source": [
        "Antes de iniciar é necessário rodar uma vez o código do tópico **Códigos**"
      ]
    },
    {
      "cell_type": "markdown",
      "metadata": {
        "id": "bsmBNbMtt_U4",
        "colab_type": "text"
      },
      "source": [
        "##Códigos"
      ]
    },
    {
      "cell_type": "code",
      "metadata": {
        "id": "oqJ5wex0hpwP",
        "colab_type": "code",
        "colab": {}
      },
      "source": [
        "!pip3 install prettymatrix\n",
        "import math\n",
        "import copy\n",
        "import numpy as np\n",
        "import prettymatrix\n",
        "from prettytable import PrettyTable\n",
        "from sympy import *\n",
        "\n",
        "def Determinantes(A, ordem):\n",
        "    k = 1\n",
        "    tempA = [[]]\n",
        "    while k <= ordem:\n",
        "        for i in range(k):\n",
        "            for j in range(k):\n",
        "                tempA[i].append(A[i][j])\n",
        "        if(round(np.linalg.det(tempA), 8) == 0): return (k,round(np.linalg.det(tempA), 8))\n",
        "        if k < ordem:\n",
        "            for i in range(k):\n",
        "                for j in range(k):\n",
        "                    tempA[i].pop()\n",
        "            tempA.append([])\n",
        "        k+=1\n",
        "    return (0,round(np.linalg.det(tempA), 8))\n",
        "\n",
        "def Transposta(A, ordem):\n",
        "    k = ordem\n",
        "    mT = []\n",
        "    for c in range(k):\n",
        "        mT.append([])\n",
        "    for i in range(k):\n",
        "        for j in range(k):\n",
        "            mT[i].append( A[j][i] )\n",
        "    soma = 0\n",
        "    for i in range(k):\n",
        "        for j in range(k):\n",
        "            if(mT[i][j] != A[i][j]):\n",
        "                soma += 1\n",
        "    if soma == 0:\n",
        "        return 1\n",
        "\n",
        "def valoresG(A, G, ordem):\n",
        "    k = ordem\n",
        "    for i in range(k):\n",
        "        for j in range(k):\n",
        "            if(i == 0 and j == 0):\n",
        "                G[0][0] = A[0][0] ** (1/2)\n",
        "            elif(i == j):\n",
        "                soma = 0\n",
        "                for c in range(0, i):\n",
        "                    soma += G[i][c]**2\n",
        "                G[i][j] = (A[i][j] - soma)**(1/2)\n",
        "            elif(j == 0 and i >= 1):\n",
        "                G[i][0] = A[i][0]/G[0][0]\n",
        "            elif(j == 1 and i >= 2):\n",
        "                G[i][1] = (A[i][1] - G[i][0]*G[1][0])/G[1][1]\n",
        "                G[i][1] = round(G[i][1], 8)\n",
        "            elif(1 <= j and j < i):\n",
        "                soma = 0\n",
        "                for c in range(i):\n",
        "                    soma += G[i][c]*G[j][c]\n",
        "                G[i][j] = (A[i][j] - soma)/G[j][j]\n",
        "    \n",
        "    G = np.asarray(G)\n",
        "    return G\n",
        "\n",
        "def sistLinear(G, B, ordem):\n",
        "    y = symbols('y:'+str(ordem))\n",
        "    mY = []\n",
        "    for i in range(len(y)):\n",
        "        mY.append(y[i])\n",
        "    D = np.linalg.det(G)\n",
        "    tempG = G.copy()\n",
        "    for j in range(ordem):\n",
        "        for i in range(ordem):\n",
        "            tempG[i][j] = B[i]\n",
        "        tempD = np.linalg.det(tempG)\n",
        "        tempG = G.copy()\n",
        "        mY[j] = round(tempD/D, 8)\n",
        "    mTemp = []\n",
        "    for i in range(len(mY)):\n",
        "        mTemp.append([mY[i]])\n",
        "    mY = mTemp.copy()\n",
        "    mY = np.asarray(mY)\n",
        "    return mY\n",
        "\n",
        "def valoresLU(L, U, A, ordem):\n",
        "    for i in range(ordem):\n",
        "        for j in range(ordem):\n",
        "            if i == 0:\n",
        "                U[0][j] = A[0][j]\n",
        "            elif i == 1 and j >= 1:\n",
        "                U[1][j] =  A[1][j] - L[1][0]*U[0][j]\n",
        "            elif i <= j:\n",
        "                soma = 0\n",
        "                for c in range(i):\n",
        "                    soma += L[i][c]*U[c][j]\n",
        "                U[i][j] = A[i][j] - soma\n",
        "        \n",
        "        for j in range(ordem):\n",
        "            if i == 0 and j >= 1:\n",
        "                L[j][0] = A[j][0]/U[0][0]\n",
        "            elif i == 1 and j >= 2:\n",
        "                L[j][1] = (A[j][1] - L[j][0]*U[0][1])/U[1][1]\n",
        "            elif j > i:\n",
        "                soma = 0\n",
        "                for c in range(i):\n",
        "                    soma += L[j][c]*U[c][i]\n",
        "                L[j][i] = (A[j][i] - soma)/U[i][i]\n",
        "\n",
        "    return L, U\n",
        "\n",
        "def pivotParcial(A,B,MA,MB,ordem,k):\n",
        "    if A[k][k] == 0:\n",
        "        for i in range(k+1,ordem):\n",
        "            if A[i][k] != 0:\n",
        "                temp1 = copy.copy(A[i])\n",
        "                temp2 = copy.copy(B[i])\n",
        "                temp3 = copy.copy(MA[i])\n",
        "                temp4 = copy.copy(MB[i])\n",
        "                A[i] = copy.copy(A[k])\n",
        "                B[i] = copy.copy(B[k])\n",
        "                MA[i] = copy.copy(MA[k])\n",
        "                MB[i] = copy.copy(MB[k])\n",
        "                A[k] = copy.copy(temp1)\n",
        "                B[k] = copy.copy(temp2)\n",
        "                MA[k] = copy.copy(temp3)\n",
        "                MB[k] = copy.copy(temp4)\n",
        "                break\n",
        "    save = 0\n",
        "    maior = -math.inf\n",
        "    for i in range(ordem):\n",
        "        if abs(A[i][k]) > maior and i >= k:\n",
        "            maior = copy.copy(abs(A[i][k]))\n",
        "            save = copy.copy(i)\n",
        "    temp1 = copy.copy(A[save])\n",
        "    temp2 = copy.copy(B[save])\n",
        "    temp3 = copy.copy(MA[save])\n",
        "    temp4 = copy.copy(MB[save])\n",
        "    A[save] = copy.copy(A[k])\n",
        "    B[save] = copy.copy(B[k])\n",
        "    MA[save] = copy.copy(MA[k])\n",
        "    MB[save] = copy.copy(MB[k])\n",
        "    A[k] = copy.copy(temp1)\n",
        "    B[k] = copy.copy(temp2)\n",
        "    MA[k] = copy.copy(temp3)\n",
        "    MB[k] = copy.copy(temp4)\n",
        "\n",
        "def MA(A, B, ordem):\n",
        "    MA = np.zeros((ordem,ordem))\n",
        "    MB = np.zeros(ordem)\n",
        "\n",
        "    for i in range(ordem):\n",
        "        MB[i] = B[i]\n",
        "        for j in range(ordem):\n",
        "            MA[i][j] = A[i][j]\n",
        "\n",
        "    mAum = np.zeros((ordem,ordem+1))\n",
        "    for k in range(ordem-1):\n",
        "        pivotParcial(A,B,MA,MB,ordem,k)\n",
        "        for i in range(k+1,ordem):\n",
        "            MB[i] = round(B[i] - (B[k] * A[i][k])/A[k][k], 8)\n",
        "            for j in range(ordem):\n",
        "                MA[i][j] = round(A[i][j] - (A[k][j]*A[i][k])/A[k][k], 8)\n",
        "\n",
        "\n",
        "        for i in range(ordem):\n",
        "            for j in range(ordem+1):\n",
        "                if j == ordem:\n",
        "                    mAum[i][j] = MB[i]\n",
        "                else:\n",
        "                    mAum[i][j] = MA[i][j]\n",
        "        mAum = np.asarray(mAum)\n",
        "        print(prettymatrix.matrix_to_string(mAum, name='Matriz aumentada = '))\n",
        "\n",
        "        for i in range(ordem):\n",
        "            B[i] = MB[i]\n",
        "            for j in range(ordem):\n",
        "                A[i][j] = MA[i][j]\n",
        "    return MA, MB\n",
        "\n",
        "def Cholesky(A, B):\n",
        "    ordem = np.shape(A)\n",
        "    if ordem[0] == 0: return print(\"Isso não é uma matriz\")\n",
        "    if ordem[0] == ordem[1]:\n",
        "        det = Determinantes(A, ordem[0])\n",
        "        if( det[1] <= 0):\n",
        "            print(\"Determinante <= 0 para k = \" + str(det[0]))\n",
        "            return\n",
        "        trans = Transposta(A, ordem[0])\n",
        "        if( not trans ):\n",
        "            return print(\"Matriz não é igual sua transposta\")\n",
        "\n",
        "        mG = np.zeros((ordem[0],ordem[1]))\n",
        "        mG = valoresG(A, mG, ordem[0])\n",
        "        print(prettymatrix.matrix_to_string(mG, name='G = '))\n",
        "\n",
        "        mY = sistLinear(mG, B, ordem[0])\n",
        "        print(prettymatrix.matrix_to_string(mY, name='Y = '))\n",
        "\n",
        "        transpG = np.zeros((ordem[0],ordem[1]))\n",
        "        for i in range(ordem[0]):\n",
        "            for j in range(ordem[0]):\n",
        "                transpG[i][j] = mG[j][i]\n",
        "\n",
        "        transpG = np.asarray(transpG)\n",
        "\n",
        "        mX = sistLinear(transpG, mY, ordem[0])\n",
        "        print(prettymatrix.matrix_to_string(mX, name='X = '))\n",
        "\n",
        "def LU(A,B):\n",
        "    ordem = np.shape(A)\n",
        "    if ordem[0] == 0: return print(\"Isso não é uma matriz\")\n",
        "    if ordem[0] != ordem[1]: return print(\"Esta matriz não é quadrada\")\n",
        "    det = Determinantes(A, ordem[0]-1)\n",
        "    if( det[1] == 0):\n",
        "        return print(\"Determinante = 0 para k = \" + str(det[0]))\n",
        "\n",
        "    L = np.eye(ordem[0])\n",
        "    U = np.zeros((ordem[0],ordem[1]))\n",
        "\n",
        "    mLU = valoresLU(L, U, A, ordem[0])\n",
        "\n",
        "    mY = sistLinear(L, B, ordem[0])\n",
        "    mX = sistLinear(U, mY, ordem[0])\n",
        "\n",
        "    print(prettymatrix.matrices_to_string(L, U, names=['L','U']))\n",
        "    print(prettymatrix.matrix_to_string(mY, name='Y = '))\n",
        "    print(prettymatrix.matrix_to_string(mX, name='X = '))\n",
        "\n",
        "def gaussParcial(A, B):\n",
        "    ordem = np.shape(A)\n",
        "    if ordem[0] == 0: return print(\"Isso não é uma matriz\")\n",
        "    if ordem[0] != ordem[1]: return print(\"Esta matriz não é quadrada\")\n",
        "    mA, mB = MA(A, B, ordem[0])\n",
        "    mX = sistLinear(mA, mB, ordem[0])\n",
        "    print(prettymatrix.matrix_to_string(mX, name='X = '))\n",
        "\n",
        "def norma_inf(A):\n",
        "    somaMaior = 0\n",
        "    for i in range(len(A)):\n",
        "        if abs(A[i]) > somaMaior:\n",
        "            somaMaior = abs(A[i])\n",
        "    \n",
        "    return somaMaior\n",
        "\n",
        "def condicaoEDD(A, ordem):\n",
        "    for i in range(ordem):\n",
        "        for j in range(ordem):\n",
        "            if A[i][j] > A[i][i]:\n",
        "              return false\n",
        "\n",
        "def condicaoF(A, ordem, tipo):\n",
        "    F = np.zeros((ordem,ordem))\n",
        "    for i in range(ordem):\n",
        "        for j in range(ordem):\n",
        "            if i != j:\n",
        "                F[i][j] = -(A[i][j]/A[i][i])\n",
        "    print(prettymatrix.matrix_to_string(F, name='Matriz F = '))\n",
        "    print(\"Cálculo da soma em valor absoluto de cada linha da matriz F:\")\n",
        "    if norma_linha(F) < 1:\n",
        "        return true\n",
        "    elif tipo == 1:\n",
        "        print(\"Cálculo da soma em valor absoluto de cada coluna da matriz F:\")\n",
        "        if norma_coluna(F) < 1:\n",
        "            return true\n",
        "    else:\n",
        "        return false\n",
        "\n",
        "def Sanssenfeld(A, ordem):\n",
        "    B = []\n",
        "    maior = -math.inf\n",
        "    for i in range(ordem):\n",
        "        soma = 0\n",
        "        for j in range(i):\n",
        "            if i == 0: continue\n",
        "            soma += abs(A[i][j]/A[i][i]) * B[j]\n",
        "        temp = copy.copy(soma)\n",
        "        soma = 0\n",
        "        for j in range(i+1,ordem):\n",
        "            soma += abs(A[i][j]/A[i][i])\n",
        "        print(\"\\u03B2\", i, \" = \", round(temp+soma,8))\n",
        "        B.append(temp+soma)\n",
        "        if B[len(B)-1] > maior:\n",
        "            maior = B[len(B)-1]\n",
        "    if maior < 1:\n",
        "        return true\n",
        "    else:\n",
        "        return false\n",
        "\n",
        "def norma_linha(A):\n",
        "    ordem = np.shape(A)\n",
        "    if ordem[0] == 0 or ordem[1] == 0: return print(\"Isso não é uma matriz\")\n",
        "    \n",
        "    somaMaior = 0\n",
        "    for i in range(ordem[0]):\n",
        "        soma = 0\n",
        "        for j in range(ordem[0]):\n",
        "            soma += abs(A[i][j])\n",
        "        if soma > somaMaior:\n",
        "            somaMaior = soma\n",
        "        print(\"Soma dos elementos da linha \", i+1, \" = \", round(soma, 8))\n",
        "    \n",
        "    return somaMaior\n",
        "\n",
        "def norma_coluna(A):\n",
        "    ordem = np.shape(A)\n",
        "    if ordem[0] == 0 or ordem[1] == 0: return print(\"Isso não é uma matriz\")\n",
        "    \n",
        "    somaMaior = 0\n",
        "    for j in range(ordem[0]):\n",
        "        soma = 0\n",
        "        for i in range(ordem[0]):\n",
        "            soma += abs(A[i][j])\n",
        "        if soma > somaMaior:\n",
        "            somaMaior = soma\n",
        "        print(\"Soma dos elementos da coluna \", j+1, \" = \", soma)\n",
        "    \n",
        "    return somaMaior\n",
        "\n",
        "def norma_euclidiana(A):\n",
        "    ordem = np.shape(A)\n",
        "    if ordem[0] == 0 or ordem[1] == 0: return print(\"Isso não é uma matriz\")\n",
        "    soma = 0\n",
        "    for i in range(ordem[0]):\n",
        "        for j in range(ordem[0]):\n",
        "            soma += A[i][j]**2\n",
        "        \n",
        "    soma = soma ** (1/2)\n",
        "    return soma\n",
        "\n",
        "def GaussJacobi(A, B, X0, e):\n",
        "    flag = 0\n",
        "    ordem = np.shape(A)\n",
        "    if ordem[0] == 0 or ordem[1] == 0: return print(\"Isso não é uma matriz\")\n",
        "    if condicaoEDD(A,ordem[0]) == false:\n",
        "        flag += 1\n",
        "        print(\"A matriz não é E.D.D.\")\n",
        "    if condicaoF(A, ordem[0], 1) == false:\n",
        "        flag += 1\n",
        "        print(\"A matriz não contém os requisitos quando feita a matriz F\")\n",
        "    if flag != 2:\n",
        "        xk = []\n",
        "        x_x = []\n",
        "        xk.append(X0)\n",
        "        x_x.append('-')\n",
        "        controle = 0\n",
        "        end_condition = 0\n",
        "        while not end_condition:\n",
        "            array = []\n",
        "            for i in range(len(X0)):\n",
        "                array2 = []\n",
        "                temp = 0\n",
        "                for j in range(len(X0)):\n",
        "                    if i != j:\n",
        "                        temp += A[i][j]*X0[j]\n",
        "                array.append(round((1/A[i][i]) * (B[i] - temp),8))\n",
        "\n",
        "            for i in range(len(array)):\n",
        "                array2.append(array[i]-xk[controle][i])\n",
        "            \n",
        "            xk.append(array)\n",
        "            x_x.append(norma_inf(array2)/norma_inf(array))\n",
        "            X0 = array\n",
        "            controle += 1\n",
        "            if norma_inf(array2)/norma_inf(array) < e:\n",
        "                end_condition = 1\n",
        "        \n",
        "        Table = PrettyTable([\"k\", \"xk\", \"||x^(k+1) - x^(k)||/||x^(k+1)||\"])\n",
        "        for k in range(0, len(xk)):\n",
        "            Table.add_row([k, xk[k], x_x[k]])\n",
        "        \n",
        "        print(Table)\n",
        "\n",
        "def GaussSeidel(A, B, X0, e):\n",
        "    flag = 0\n",
        "    ordem = np.shape(A)\n",
        "    if ordem[0] == 0 or ordem[1] == 0: return print(\"Isso não é uma matriz\")\n",
        "    if condicaoEDD(A,ordem[0]) == false:\n",
        "        flag += 1\n",
        "        print(\"Matriz não é E.D.D.\")\n",
        "    if condicaoF(A, ordem[0], 2) == false:\n",
        "        flag += 1\n",
        "        print(\"Não atende aos requisitos quando transformada na matriz F\")\n",
        "    print(\"Critério de Sanssenfeld:\")\n",
        "    if Sanssenfeld(A, ordem[0]) == false:\n",
        "        flag += 1\n",
        "        print(\"A matriz não atende ao critério de Sanssenfeld\")\n",
        "    if flag != 3:\n",
        "        xk = []\n",
        "        x_x = []\n",
        "        xk.append(X0)\n",
        "        x_x.append('-')\n",
        "        controle = 0\n",
        "        end_condition = 0\n",
        "        while not end_condition:\n",
        "            array = []\n",
        "            array2 = []\n",
        "            for i in range(len(X0)):\n",
        "                temp = 0\n",
        "                for j in range(len(X0)):\n",
        "                    if i != j:\n",
        "                        if j < i:\n",
        "                            temp += A[i][j]*array[j]\n",
        "                        else:\n",
        "                            temp += A[i][j]*X0[j]\n",
        "                array.append(round((1/A[i][i]) * (B[i] - temp),8))\n",
        "\n",
        "            for i in range(len(array)):\n",
        "                array2.append(array[i]-xk[controle][i])\n",
        "            \n",
        "            xk.append(array)\n",
        "            x_x.append(norma_inf(array2)/norma_inf(array))\n",
        "            X0 = array\n",
        "            controle += 1\n",
        "            if norma_inf(array2)/norma_inf(array) < e:\n",
        "                end_condition = 1\n",
        "        \n",
        "        Table = PrettyTable([\"k\", \"xk\", \"||x^(k+1) - x^(k)||/||x^(k+1)||\"])\n",
        "        for k in range(0, len(xk)):\n",
        "            Table.add_row([k, xk[k], x_x[k]])\n",
        "        \n",
        "        print(Table)\n",
        "\n",
        "    else:\n",
        "        return print(\"A matriz não atende aos requisitos do método\")"
      ],
      "execution_count": 0,
      "outputs": []
    },
    {
      "cell_type": "markdown",
      "metadata": {
        "id": "E09ld1tcT_5f",
        "colab_type": "text"
      },
      "source": [
        "## 1. Métodos Diretos"
      ]
    },
    {
      "cell_type": "markdown",
      "metadata": {
        "id": "jvTe_y0VUDby",
        "colab_type": "text"
      },
      "source": [
        "### 1.1 Método de Cholesky"
      ]
    },
    {
      "cell_type": "markdown",
      "metadata": {
        "id": "lBCwPMabViW_",
        "colab_type": "text"
      },
      "source": [
        "O procedimento a ser usado é Cholesky(A,B).\n",
        "\n",
        "Exemplo: Resolva o sistema linear $A*X=B$ dado pelas matrizes abaixo:"
      ]
    },
    {
      "cell_type": "code",
      "metadata": {
        "id": "Z-B-6cmlTYNh",
        "colab_type": "code",
        "colab": {}
      },
      "source": [
        "A = [[4,2,-4],\n",
        "     [2,10,4],\n",
        "     [-4,4,9]]\n",
        "B = [0, \n",
        "     6, \n",
        "     5]\n",
        "Cholesky(A,B)"
      ],
      "execution_count": 0,
      "outputs": []
    },
    {
      "cell_type": "markdown",
      "metadata": {
        "id": "PEWt8WuXXGty",
        "colab_type": "text"
      },
      "source": [
        "Se tivéssemos escolhido a matriz A como sendo,"
      ]
    },
    {
      "cell_type": "code",
      "metadata": {
        "id": "19yRLyTBXRP5",
        "colab_type": "code",
        "colab": {}
      },
      "source": [
        "A = [[4,2,-4],\n",
        "     [-2,10,4],\n",
        "     [-4,4,9]]\n",
        "B = [0, \n",
        "     6, \n",
        "     5]\n",
        "Cholesky(A,B)"
      ],
      "execution_count": 0,
      "outputs": []
    },
    {
      "cell_type": "markdown",
      "metadata": {
        "id": "kgZt4LWfX0Hx",
        "colab_type": "text"
      },
      "source": [
        "Agora, se considerarmos,"
      ]
    },
    {
      "cell_type": "code",
      "metadata": {
        "id": "hmmIY5JAX1Fn",
        "colab_type": "code",
        "colab": {}
      },
      "source": [
        "A = [[1,0,-3],\n",
        "     [0,1,8],\n",
        "     [-3,8,4]]\n",
        "B = [0, \n",
        "     6, \n",
        "     5]\n",
        "Cholesky(A,B)"
      ],
      "execution_count": 0,
      "outputs": []
    },
    {
      "cell_type": "markdown",
      "metadata": {
        "id": "wveP7t6IYXGa",
        "colab_type": "text"
      },
      "source": [
        "### 1.2 Decomposição em LU"
      ]
    },
    {
      "cell_type": "markdown",
      "metadata": {
        "id": "ri0ZfGhQYinY",
        "colab_type": "text"
      },
      "source": [
        "Aqui o procedimento é LU(A,B)\n",
        "\n",
        "Exemplo: Usando o método de decomposição LU, resolva o sistema linear $A*X=B$ onde A e B são matrizes dadas a seguir:"
      ]
    },
    {
      "cell_type": "code",
      "metadata": {
        "id": "D_s__MXJY32H",
        "colab_type": "code",
        "colab": {}
      },
      "source": [
        "A = [[5,2,1],[-1,4,2],[2,-3,10]]\n",
        "B = [-12, 20, 3]\n",
        "LU(A,B)"
      ],
      "execution_count": 0,
      "outputs": []
    },
    {
      "cell_type": "markdown",
      "metadata": {
        "id": "CkPslyhKZaGI",
        "colab_type": "text"
      },
      "source": [
        "Agora, se escolhermos uma matriz com algum menor principal nulo, por exemplo,"
      ]
    },
    {
      "cell_type": "code",
      "metadata": {
        "id": "4CGyL3AIZcyt",
        "colab_type": "code",
        "colab": {}
      },
      "source": [
        "A = [[5,2,3,4],\n",
        "     [1,1,1,2],\n",
        "     [4,1,2,0],\n",
        "     [4,3,2,1]]\n",
        "B = [1,\n",
        "     2,\n",
        "     3,\n",
        "     4]\n",
        "LU(A,B)"
      ],
      "execution_count": 0,
      "outputs": []
    },
    {
      "cell_type": "markdown",
      "metadata": {
        "id": "PqaFqt84aP_v",
        "colab_type": "text"
      },
      "source": [
        "### 1.3 Método Eliminação de Gauss"
      ]
    },
    {
      "cell_type": "markdown",
      "metadata": {
        "id": "ZW4-MkBjaXJm",
        "colab_type": "text"
      },
      "source": [
        "O procedimento é gaussParcial(A,B)\n",
        "\n",
        "Exemplo: Resolva o seguinte sistema abaixo onde as matrizes A e B são dadas a seguir com o método:"
      ]
    },
    {
      "cell_type": "code",
      "metadata": {
        "id": "aH8X2mkbamEf",
        "colab_type": "code",
        "colab": {}
      },
      "source": [
        "A = [[1,2,3],\n",
        "     [3,1,0],\n",
        "     [0,3,4]]\n",
        "B = [3, 4, 3]\n",
        "gaussParcial(A,B)"
      ],
      "execution_count": 0,
      "outputs": []
    },
    {
      "cell_type": "markdown",
      "metadata": {
        "id": "i5lN4lIOb4K5",
        "colab_type": "text"
      },
      "source": [
        "## 2. Métodos Iterativos"
      ]
    },
    {
      "cell_type": "markdown",
      "metadata": {
        "id": "EeevQP0Tb_m6",
        "colab_type": "text"
      },
      "source": [
        "### 2.1 Norma de Matriz"
      ]
    },
    {
      "cell_type": "markdown",
      "metadata": {
        "id": "W5BzjpkwcIs4",
        "colab_type": "text"
      },
      "source": [
        "Os procedimentos abaixo nos dão respectivamente, a norma linha, norma coluna e a norma euclidiana de uma matriz A:\n",
        "\n",
        "norma_linha(A)\n",
        "norma_coluna(A)\n",
        "norma_euclidiana(A)\n",
        "\n",
        "Exemplo: Dada a matriz A, obtenha a norma linha, norma coluna e a norma euclidiana desta matriz."
      ]
    },
    {
      "cell_type": "code",
      "metadata": {
        "id": "-R8LXXcktoaD",
        "colab_type": "code",
        "colab": {}
      },
      "source": [
        "A = [[3,-5,7],\n",
        "     [1,-2,4],\n",
        "     [-8,1,-7]]"
      ],
      "execution_count": 0,
      "outputs": []
    },
    {
      "cell_type": "code",
      "metadata": {
        "id": "2w_Z5fTRcZ2Q",
        "colab_type": "code",
        "colab": {}
      },
      "source": [
        "print(\"||A||_inf = \", norma_linha(A))"
      ],
      "execution_count": 0,
      "outputs": []
    },
    {
      "cell_type": "code",
      "metadata": {
        "id": "TEJzPoZBc0I6",
        "colab_type": "code",
        "colab": {}
      },
      "source": [
        "print(\"||A||_1 = \", norma_coluna(A))"
      ],
      "execution_count": 0,
      "outputs": []
    },
    {
      "cell_type": "code",
      "metadata": {
        "id": "8U6hG7VQc7zC",
        "colab_type": "code",
        "colab": {}
      },
      "source": [
        "print(\"||A||_E = \", norma_euclidiana(A))"
      ],
      "execution_count": 0,
      "outputs": []
    },
    {
      "cell_type": "markdown",
      "metadata": {
        "id": "55MS9lJUdfhb",
        "colab_type": "text"
      },
      "source": [
        "### 2.2 Método de Gauss Jacobi"
      ]
    },
    {
      "cell_type": "markdown",
      "metadata": {
        "id": "q10J2lKzdoI0",
        "colab_type": "text"
      },
      "source": [
        "Usaremos os seguintes procedimentos que\n",
        "\n",
        "1. verificam se a matriz A é estritamente diagonalmente dominante e se os critérios da linha e da coluna são satisfeitos para a matriz F, onde $F_{ij}=0$ se $i=j$ e $F_{ij}=-A_{ij}*[A_{ii}]^{-1}$:\n",
        "\n",
        "2. Uso do método de Gauss-Jacobi para resolver o sistema $A*X=B$ dados $X_0$ e tolerância\n",
        "$\\epsilon$:\n",
        "\n",
        "\n",
        "GaussJacobi(A,B,X0,epsilon)\n",
        "\n",
        "Exemplo: Utilize o método de Gauss - Jacobi para resolver o sistema $A*X=B$ com $X_0=[0,0,0]^t$ e\n",
        "$\\epsilon=10^{-2}$.\n",
        "\n",
        "Solução: Vejamos se o algoritmo descrito nos permitirá usar  o método iterativo de Gauss-Seidel:"
      ]
    },
    {
      "cell_type": "code",
      "metadata": {
        "id": "A4CfQ8pVeoZ6",
        "colab_type": "code",
        "colab": {}
      },
      "source": [
        "A = [[10,2,1],[1,5,1],[2,3,10]]\n",
        "B = [14, 11, 8]\n",
        "X0 = [0,0,0]\n",
        "GaussJacobi(A,B,X0,0.01)"
      ],
      "execution_count": 0,
      "outputs": []
    },
    {
      "cell_type": "markdown",
      "metadata": {
        "id": "9m9nYR1ffNci",
        "colab_type": "text"
      },
      "source": [
        "### 2.3 Método de Gauss Seidel"
      ]
    },
    {
      "cell_type": "markdown",
      "metadata": {
        "id": "UcORwCatfT4R",
        "colab_type": "text"
      },
      "source": [
        "Como na seção anterior, usaremos o procedimento com o intuito:\n",
        "\n",
        "1. Verificar se a matriz A é estritamente diagonalmente dominante e se os critérios de Sanssenfeld, da linha para matriz F e da coluna para a matriz F são satisfeitos, onde a matriz F, onde $F_{ij}=0$ se i=j e $F_{ij}=-A_{ij}*[A_{ii}]^{-1}$:\n",
        "\n",
        "\n",
        "2. Uso do método de Gauss-Seidel para resolver o sistema $A*X=B$ dados $X_0$ e tolerância\n",
        "$\\epsilon$:\n",
        "\n",
        "GaussSeidel(A,B,X0,epsilon)\n",
        "\n",
        "Exemplo: Utilize o método de Gauss - Jacobi para resolver o sistema $A*X=B$ com $X_0=[0,0,0]^t$ e\n",
        "$\\epsilon=10^{-2}$.\n",
        "\n",
        "Solução: Vamos checar se é possível empregar o método iterativo de Gauss - Seidel:"
      ]
    },
    {
      "cell_type": "code",
      "metadata": {
        "id": "uRqTDdqTgEge",
        "colab_type": "code",
        "colab": {}
      },
      "source": [
        "A = [[5,1,1],[3,4,1],[3,3,6]]\n",
        "B = [5, 6, 0]\n",
        "X0 = [0,0,0]\n",
        "GaussSeidel(A, B, X0, 0.01)"
      ],
      "execution_count": 0,
      "outputs": []
    }
  ]
}